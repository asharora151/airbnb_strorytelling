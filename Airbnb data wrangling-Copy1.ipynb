{
 "cells": [
  {
   "cell_type": "markdown",
   "id": "fd5d9c8b",
   "metadata": {},
   "source": [
    "<h1 style = color:#ff5a60 > <span style='font-family:Georgia' > <center>Airbnb Case Study</center></span></h1>\n",
    "<img src = \"https://th.bing.com/th/id/OIP.etHFJHbyZKhHrz7t9f7d9QHaEK?pid=ImgDet&rs=1\">\n",
    "\n",
    "\n",
    "<h3 style = color:#ff5a60 > <span style='font-family:Georgia' >\n",
    "Problem Statement:</span></h3> \n",
    "\n",
    "- For the past few months, Airbnb has seen a major decline in revenue. \n",
    "\n",
    "- Now that the restrictions have started lifting and people have started to travel more, Airbnb wants to make sure that it is fully prepared for this change. \n",
    "\n",
    "- The different leaders at Airbnb want to understand some important insights based on various attributes in the dataset so as to increase the revenue.\n",
    "\n",
    "<h4 style = color:#674846 > <span style='font-family:Georgia' >\n",
    "Let's understand the data first and create a final data for analysis.</span></h4> \n"
   ]
  },
  {
   "cell_type": "markdown",
   "id": "89a36295",
   "metadata": {},
   "source": [
    "# Import required libraries"
   ]
  },
  {
   "cell_type": "code",
   "execution_count": 2,
   "id": "9f416710",
   "metadata": {},
   "outputs": [],
   "source": [
    "import pandas as pd\n",
    "import numpy as np\n",
    "import matplotlib.pyplot as plt\n",
    "import seaborn as sns\n",
    "%matplotlib inline\n",
    "import math\n",
    "# Ignore warnings for any obselete feature or deprciated featured used any.\n",
    "import warnings\n",
    "warnings.filterwarnings(\"ignore\")"
   ]
  },
  {
   "cell_type": "code",
   "execution_count": 210,
   "id": "b24a85b0",
   "metadata": {},
   "outputs": [],
   "source": [
    "## Changing Jupyter view options\n",
    "pd.options.display.max_rows = 1000\n",
    "pd.options.display.max_colwidth = 1000\n",
    "pd.options.display.max_columns= 122\n",
    "pd.set_option('float_format', '{:.2f}'.format)"
   ]
  },
  {
   "cell_type": "markdown",
   "id": "5aa6780a",
   "metadata": {},
   "source": [
    "# Load data"
   ]
  },
  {
   "cell_type": "code",
   "execution_count": 780,
   "id": "4990322e",
   "metadata": {},
   "outputs": [],
   "source": [
    "data = pd.read_csv(\"Downloads/AB_NYC_2019 (1).csv\")"
   ]
  },
  {
   "cell_type": "code",
   "execution_count": 781,
   "id": "9f6c2cc0",
   "metadata": {},
   "outputs": [
    {
     "name": "stdout",
     "output_type": "stream",
     "text": [
      "<class 'pandas.core.frame.DataFrame'>\n",
      "RangeIndex: 48895 entries, 0 to 48894\n",
      "Data columns (total 16 columns):\n",
      " #   Column                          Non-Null Count  Dtype  \n",
      "---  ------                          --------------  -----  \n",
      " 0   id                              48895 non-null  int64  \n",
      " 1   name                            48879 non-null  object \n",
      " 2   host_id                         48895 non-null  int64  \n",
      " 3   host_name                       48874 non-null  object \n",
      " 4   neighbourhood_group             48895 non-null  object \n",
      " 5   neighbourhood                   48895 non-null  object \n",
      " 6   latitude                        48895 non-null  float64\n",
      " 7   longitude                       48895 non-null  float64\n",
      " 8   room_type                       48895 non-null  object \n",
      " 9   price                           48895 non-null  int64  \n",
      " 10  minimum_nights                  48895 non-null  int64  \n",
      " 11  number_of_reviews               48895 non-null  int64  \n",
      " 12  last_review                     38843 non-null  object \n",
      " 13  reviews_per_month               38843 non-null  float64\n",
      " 14  calculated_host_listings_count  48895 non-null  int64  \n",
      " 15  availability_365                48895 non-null  int64  \n",
      "dtypes: float64(3), int64(7), object(6)\n",
      "memory usage: 6.0+ MB\n"
     ]
    }
   ],
   "source": [
    "data.info()"
   ]
  },
  {
   "cell_type": "markdown",
   "id": "73d8893f",
   "metadata": {},
   "source": [
    "# Data Understanding"
   ]
  },
  {
   "cell_type": "code",
   "execution_count": 782,
   "id": "f09c75dd",
   "metadata": {},
   "outputs": [
    {
     "name": "stdout",
     "output_type": "stream",
     "text": [
      "<class 'pandas.core.frame.DataFrame'>\n",
      "RangeIndex: 48895 entries, 0 to 48894\n",
      "Data columns (total 16 columns):\n",
      " #   Column                          Non-Null Count  Dtype  \n",
      "---  ------                          --------------  -----  \n",
      " 0   id                              48895 non-null  int64  \n",
      " 1   name                            48879 non-null  object \n",
      " 2   host_id                         48895 non-null  int64  \n",
      " 3   host_name                       48874 non-null  object \n",
      " 4   neighbourhood_group             48895 non-null  object \n",
      " 5   neighbourhood                   48895 non-null  object \n",
      " 6   latitude                        48895 non-null  float64\n",
      " 7   longitude                       48895 non-null  float64\n",
      " 8   room_type                       48895 non-null  object \n",
      " 9   price                           48895 non-null  int64  \n",
      " 10  minimum_nights                  48895 non-null  int64  \n",
      " 11  number_of_reviews               48895 non-null  int64  \n",
      " 12  last_review                     38843 non-null  object \n",
      " 13  reviews_per_month               38843 non-null  float64\n",
      " 14  calculated_host_listings_count  48895 non-null  int64  \n",
      " 15  availability_365                48895 non-null  int64  \n",
      "dtypes: float64(3), int64(7), object(6)\n",
      "memory usage: 6.0+ MB\n"
     ]
    }
   ],
   "source": [
    "data.info()"
   ]
  },
  {
   "cell_type": "code",
   "execution_count": 783,
   "id": "0e316c72",
   "metadata": {},
   "outputs": [],
   "source": [
    "# Converting id and host_id to object\n",
    "\n",
    "data['id'] = data.id.astype(str)\n",
    "data['host_id'] = data.host_id.astype(str)"
   ]
  },
  {
   "cell_type": "code",
   "execution_count": 784,
   "id": "61394d68",
   "metadata": {},
   "outputs": [
    {
     "data": {
      "text/html": [
       "<div>\n",
       "<style scoped>\n",
       "    .dataframe tbody tr th:only-of-type {\n",
       "        vertical-align: middle;\n",
       "    }\n",
       "\n",
       "    .dataframe tbody tr th {\n",
       "        vertical-align: top;\n",
       "    }\n",
       "\n",
       "    .dataframe thead th {\n",
       "        text-align: right;\n",
       "    }\n",
       "</style>\n",
       "<table border=\"1\" class=\"dataframe\">\n",
       "  <thead>\n",
       "    <tr style=\"text-align: right;\">\n",
       "      <th></th>\n",
       "      <th>neighbourhood_group</th>\n",
       "      <th>neighbourhood</th>\n",
       "      <th>room_type</th>\n",
       "      <th>last_review</th>\n",
       "    </tr>\n",
       "  </thead>\n",
       "  <tbody>\n",
       "    <tr>\n",
       "      <th>count</th>\n",
       "      <td>48895</td>\n",
       "      <td>48895</td>\n",
       "      <td>48895</td>\n",
       "      <td>38843</td>\n",
       "    </tr>\n",
       "    <tr>\n",
       "      <th>unique</th>\n",
       "      <td>5</td>\n",
       "      <td>221</td>\n",
       "      <td>3</td>\n",
       "      <td>1764</td>\n",
       "    </tr>\n",
       "    <tr>\n",
       "      <th>top</th>\n",
       "      <td>Manhattan</td>\n",
       "      <td>Williamsburg</td>\n",
       "      <td>Entire home/apt</td>\n",
       "      <td>23-06-2019</td>\n",
       "    </tr>\n",
       "    <tr>\n",
       "      <th>freq</th>\n",
       "      <td>21661</td>\n",
       "      <td>3920</td>\n",
       "      <td>25409</td>\n",
       "      <td>1413</td>\n",
       "    </tr>\n",
       "  </tbody>\n",
       "</table>\n",
       "</div>"
      ],
      "text/plain": [
       "       neighbourhood_group neighbourhood        room_type last_review\n",
       "count                48895         48895            48895       38843\n",
       "unique                   5           221                3        1764\n",
       "top              Manhattan  Williamsburg  Entire home/apt  23-06-2019\n",
       "freq                 21661          3920            25409        1413"
      ]
     },
     "execution_count": 784,
     "metadata": {},
     "output_type": "execute_result"
    }
   ],
   "source": [
    "data[[\"neighbourhood_group\",\"neighbourhood\",\"room_type\",\"last_review\"]].describe()"
   ]
  },
  {
   "cell_type": "markdown",
   "id": "06a499fb",
   "metadata": {},
   "source": [
    "# Data Preparation\n",
    "\n",
    "- Treating Null Values if any.\n",
    "- Treating Outliers if any.\n",
    "- Creating bins for further analysis."
   ]
  },
  {
   "cell_type": "markdown",
   "id": "32520384",
   "metadata": {},
   "source": [
    "### 1. Treating Null Values if any.          "
   ]
  },
  {
   "cell_type": "code",
   "execution_count": 785,
   "id": "b52ba3ec",
   "metadata": {},
   "outputs": [
    {
     "data": {
      "text/html": [
       "<div>\n",
       "<style scoped>\n",
       "    .dataframe tbody tr th:only-of-type {\n",
       "        vertical-align: middle;\n",
       "    }\n",
       "\n",
       "    .dataframe tbody tr th {\n",
       "        vertical-align: top;\n",
       "    }\n",
       "\n",
       "    .dataframe thead th {\n",
       "        text-align: right;\n",
       "    }\n",
       "</style>\n",
       "<table border=\"1\" class=\"dataframe\">\n",
       "  <thead>\n",
       "    <tr style=\"text-align: right;\">\n",
       "      <th></th>\n",
       "      <th>Null Count</th>\n",
       "    </tr>\n",
       "  </thead>\n",
       "  <tbody>\n",
       "    <tr>\n",
       "      <th>name</th>\n",
       "      <td>16</td>\n",
       "    </tr>\n",
       "    <tr>\n",
       "      <th>host_name</th>\n",
       "      <td>21</td>\n",
       "    </tr>\n",
       "    <tr>\n",
       "      <th>last_review</th>\n",
       "      <td>10052</td>\n",
       "    </tr>\n",
       "    <tr>\n",
       "      <th>reviews_per_month</th>\n",
       "      <td>10052</td>\n",
       "    </tr>\n",
       "  </tbody>\n",
       "</table>\n",
       "</div>"
      ],
      "text/plain": [
       "                   Null Count\n",
       "name                       16\n",
       "host_name                  21\n",
       "last_review             10052\n",
       "reviews_per_month       10052"
      ]
     },
     "execution_count": 785,
     "metadata": {},
     "output_type": "execute_result"
    }
   ],
   "source": [
    "pd.DataFrame(data.isna().sum()[data.isna().sum()>0], columns = [ \"Null Count\"], )"
   ]
  },
  {
   "cell_type": "markdown",
   "id": "4b84e9db",
   "metadata": {},
   "source": [
    "<h3 style = color:#ff5a60 > \n",
    "    <span style='font-family:Georgia' > \n",
    "\t\tThere seems to have null values in following columns:\n",
    "    </span>\n",
    "</h3>\n",
    "\n",
    "- name \n",
    "- host_name                       \n",
    "- last_review                     \n",
    "- reviews_per_month \n"
   ]
  },
  {
   "cell_type": "code",
   "execution_count": 786,
   "id": "04e201ec",
   "metadata": {},
   "outputs": [],
   "source": [
    "# For name and host_name, lets fill the null values with \"Unknown\".\n",
    "\n",
    "data[\"name\"].fillna(value = \"Name not Known\", inplace = True)\n",
    "data[\"host_name\"].fillna(value = \"Name not Known\", inplace = True)"
   ]
  },
  {
   "cell_type": "code",
   "execution_count": 787,
   "id": "fb68b34c",
   "metadata": {},
   "outputs": [],
   "source": [
    "# For last_review, lets fill the null values with DUMMY DATE."
   ]
  },
  {
   "cell_type": "code",
   "execution_count": 788,
   "id": "43c3062a",
   "metadata": {},
   "outputs": [],
   "source": [
    "data[\"last_review\"].fillna(value = np.datetime64(\"1990-01-01\"), inplace = True)"
   ]
  },
  {
   "cell_type": "code",
   "execution_count": 789,
   "id": "253f8557",
   "metadata": {},
   "outputs": [],
   "source": [
    "# For reviews_per_month, lets fill the null values with mean reviews, AS last reviews are not provided to us, \n",
    "# Hence better keep it to mean rating."
   ]
  },
  {
   "cell_type": "code",
   "execution_count": 790,
   "id": "a359a1ab",
   "metadata": {},
   "outputs": [
    {
     "data": {
      "text/plain": [
       "neighbourhood    193\n",
       "dtype: int64"
      ]
     },
     "execution_count": 790,
     "metadata": {},
     "output_type": "execute_result"
    }
   ],
   "source": [
    "data[[ \"neighbourhood\"]][data[\"reviews_per_month\"].isna()].nunique()"
   ]
  },
  {
   "cell_type": "code",
   "execution_count": 791,
   "id": "b56bc1a4",
   "metadata": {},
   "outputs": [],
   "source": [
    "# So reviews per month for whom belongs to 193 different "
   ]
  },
  {
   "cell_type": "code",
   "execution_count": 792,
   "id": "c4733dfa",
   "metadata": {
    "scrolled": true
   },
   "outputs": [
    {
     "data": {
      "text/plain": [
       "0       1.04\n",
       "1       1.28\n",
       "2       1.34\n",
       "3       0.97\n",
       "4       1.67\n",
       "        ... \n",
       "48890   1.55\n",
       "48891   1.35\n",
       "48892   1.34\n",
       "48893   1.84\n",
       "48894   1.84\n",
       "Name: reviews_per_month, Length: 48895, dtype: float64"
      ]
     },
     "execution_count": 792,
     "metadata": {},
     "output_type": "execute_result"
    }
   ],
   "source": [
    "#Filling missing values as per mean values to its neighbourhood it belongs\n",
    "\n",
    "neighborhood_mean_reviews = data.groupby(by= \"neighbourhood\")[\"reviews_per_month\"].transform('mean').fillna(np.nanmean(data[\"reviews_per_month\"]))\n",
    "neighborhood_mean_reviews"
   ]
  },
  {
   "cell_type": "code",
   "execution_count": 793,
   "id": "79d35c63",
   "metadata": {},
   "outputs": [],
   "source": [
    "# fill the missing values in the 'reviews' column with the mean reviews for their respective neighborhoods\n",
    "data['reviews_per_month'] = data['reviews_per_month'].fillna(neighborhood_mean_reviews)"
   ]
  },
  {
   "cell_type": "markdown",
   "id": "3fbd67c1",
   "metadata": {},
   "source": [
    "<h3 style = color:#ff5a60 >No more null values</span></h3> "
   ]
  },
  {
   "cell_type": "code",
   "execution_count": 794,
   "id": "070fe346",
   "metadata": {},
   "outputs": [
    {
     "data": {
      "text/html": [
       "<div>\n",
       "<style scoped>\n",
       "    .dataframe tbody tr th:only-of-type {\n",
       "        vertical-align: middle;\n",
       "    }\n",
       "\n",
       "    .dataframe tbody tr th {\n",
       "        vertical-align: top;\n",
       "    }\n",
       "\n",
       "    .dataframe thead th {\n",
       "        text-align: right;\n",
       "    }\n",
       "</style>\n",
       "<table border=\"1\" class=\"dataframe\">\n",
       "  <thead>\n",
       "    <tr style=\"text-align: right;\">\n",
       "      <th></th>\n",
       "      <th>Null Count</th>\n",
       "    </tr>\n",
       "  </thead>\n",
       "  <tbody>\n",
       "  </tbody>\n",
       "</table>\n",
       "</div>"
      ],
      "text/plain": [
       "Empty DataFrame\n",
       "Columns: [Null Count]\n",
       "Index: []"
      ]
     },
     "execution_count": 794,
     "metadata": {},
     "output_type": "execute_result"
    }
   ],
   "source": [
    "pd.DataFrame(data.isna().sum()[data.isna().sum()>0], columns = [ \"Null Count\"], )"
   ]
  },
  {
   "cell_type": "markdown",
   "id": "f75c63a6",
   "metadata": {},
   "source": [
    "<h3 style = color:#ff5a60 >Unique values for each column</span></h3> "
   ]
  },
  {
   "cell_type": "code",
   "execution_count": 795,
   "id": "d5d63510",
   "metadata": {},
   "outputs": [
    {
     "data": {
      "text/html": [
       "<div>\n",
       "<style scoped>\n",
       "    .dataframe tbody tr th:only-of-type {\n",
       "        vertical-align: middle;\n",
       "    }\n",
       "\n",
       "    .dataframe tbody tr th {\n",
       "        vertical-align: top;\n",
       "    }\n",
       "\n",
       "    .dataframe thead th {\n",
       "        text-align: right;\n",
       "    }\n",
       "</style>\n",
       "<table border=\"1\" class=\"dataframe\">\n",
       "  <thead>\n",
       "    <tr style=\"text-align: right;\">\n",
       "      <th></th>\n",
       "      <th>Col_name</th>\n",
       "      <th>unique_values</th>\n",
       "    </tr>\n",
       "  </thead>\n",
       "  <tbody>\n",
       "    <tr>\n",
       "      <th>0</th>\n",
       "      <td>id</td>\n",
       "      <td>48895</td>\n",
       "    </tr>\n",
       "    <tr>\n",
       "      <th>1</th>\n",
       "      <td>name</td>\n",
       "      <td>47897</td>\n",
       "    </tr>\n",
       "    <tr>\n",
       "      <th>2</th>\n",
       "      <td>host_id</td>\n",
       "      <td>37457</td>\n",
       "    </tr>\n",
       "    <tr>\n",
       "      <th>3</th>\n",
       "      <td>host_name</td>\n",
       "      <td>11453</td>\n",
       "    </tr>\n",
       "    <tr>\n",
       "      <th>4</th>\n",
       "      <td>neighbourhood_group</td>\n",
       "      <td>5</td>\n",
       "    </tr>\n",
       "    <tr>\n",
       "      <th>5</th>\n",
       "      <td>neighbourhood</td>\n",
       "      <td>221</td>\n",
       "    </tr>\n",
       "    <tr>\n",
       "      <th>6</th>\n",
       "      <td>latitude</td>\n",
       "      <td>19048</td>\n",
       "    </tr>\n",
       "    <tr>\n",
       "      <th>7</th>\n",
       "      <td>longitude</td>\n",
       "      <td>14718</td>\n",
       "    </tr>\n",
       "    <tr>\n",
       "      <th>8</th>\n",
       "      <td>room_type</td>\n",
       "      <td>3</td>\n",
       "    </tr>\n",
       "    <tr>\n",
       "      <th>9</th>\n",
       "      <td>price</td>\n",
       "      <td>674</td>\n",
       "    </tr>\n",
       "    <tr>\n",
       "      <th>10</th>\n",
       "      <td>minimum_nights</td>\n",
       "      <td>109</td>\n",
       "    </tr>\n",
       "    <tr>\n",
       "      <th>11</th>\n",
       "      <td>number_of_reviews</td>\n",
       "      <td>394</td>\n",
       "    </tr>\n",
       "    <tr>\n",
       "      <th>12</th>\n",
       "      <td>last_review</td>\n",
       "      <td>1765</td>\n",
       "    </tr>\n",
       "    <tr>\n",
       "      <th>13</th>\n",
       "      <td>reviews_per_month</td>\n",
       "      <td>1119</td>\n",
       "    </tr>\n",
       "    <tr>\n",
       "      <th>14</th>\n",
       "      <td>calculated_host_listings_count</td>\n",
       "      <td>47</td>\n",
       "    </tr>\n",
       "    <tr>\n",
       "      <th>15</th>\n",
       "      <td>availability_365</td>\n",
       "      <td>366</td>\n",
       "    </tr>\n",
       "  </tbody>\n",
       "</table>\n",
       "</div>"
      ],
      "text/plain": [
       "                          Col_name  unique_values\n",
       "0                               id          48895\n",
       "1                             name          47897\n",
       "2                          host_id          37457\n",
       "3                        host_name          11453\n",
       "4              neighbourhood_group              5\n",
       "5                    neighbourhood            221\n",
       "6                         latitude          19048\n",
       "7                        longitude          14718\n",
       "8                        room_type              3\n",
       "9                            price            674\n",
       "10                  minimum_nights            109\n",
       "11               number_of_reviews            394\n",
       "12                     last_review           1765\n",
       "13               reviews_per_month           1119\n",
       "14  calculated_host_listings_count             47\n",
       "15                availability_365            366"
      ]
     },
     "execution_count": 795,
     "metadata": {},
     "output_type": "execute_result"
    }
   ],
   "source": [
    "lst = []\n",
    "for col in data.columns:\n",
    "    lst.append({\"Col_name\": col, \"unique_values\":data[col].nunique()})\n",
    "\n",
    "df = pd.DataFrame(lst, columns=[\"Col_name\",\"unique_values\"])\n",
    "df"
   ]
  },
  {
   "cell_type": "markdown",
   "id": "b77d1247",
   "metadata": {},
   "source": [
    "<h3 style = color:green>Insights:</h3> \n",
    "\n",
    "- A single host may host multiple properties.\n",
    "- Only 674 repeated prices are there for around 49000 properties and same as the case with minimum nights. \n",
    "- Same as with last year. "
   ]
  },
  {
   "cell_type": "code",
   "execution_count": 796,
   "id": "e7616b99",
   "metadata": {},
   "outputs": [
    {
     "data": {
      "text/plain": [
       "id                                0\n",
       "name                              0\n",
       "host_id                           0\n",
       "host_name                         0\n",
       "neighbourhood_group               0\n",
       "neighbourhood                     0\n",
       "latitude                          0\n",
       "longitude                         0\n",
       "room_type                         0\n",
       "price                             0\n",
       "minimum_nights                    0\n",
       "number_of_reviews                 0\n",
       "last_review                       0\n",
       "reviews_per_month                 0\n",
       "calculated_host_listings_count    0\n",
       "availability_365                  0\n",
       "dtype: int64"
      ]
     },
     "execution_count": 796,
     "metadata": {},
     "output_type": "execute_result"
    }
   ],
   "source": [
    "data.isnull().sum()"
   ]
  },
  {
   "cell_type": "markdown",
   "id": "8a004e9d",
   "metadata": {},
   "source": [
    "\n",
    "### 2. Treating Outliers if any."
   ]
  },
  {
   "cell_type": "code",
   "execution_count": 797,
   "id": "400ff82b",
   "metadata": {},
   "outputs": [
    {
     "data": {
      "text/html": [
       "<div>\n",
       "<style scoped>\n",
       "    .dataframe tbody tr th:only-of-type {\n",
       "        vertical-align: middle;\n",
       "    }\n",
       "\n",
       "    .dataframe tbody tr th {\n",
       "        vertical-align: top;\n",
       "    }\n",
       "\n",
       "    .dataframe thead th {\n",
       "        text-align: right;\n",
       "    }\n",
       "</style>\n",
       "<table border=\"1\" class=\"dataframe\">\n",
       "  <thead>\n",
       "    <tr style=\"text-align: right;\">\n",
       "      <th></th>\n",
       "      <th>price</th>\n",
       "      <th>minimum_nights</th>\n",
       "      <th>number_of_reviews</th>\n",
       "      <th>reviews_per_month</th>\n",
       "    </tr>\n",
       "  </thead>\n",
       "  <tbody>\n",
       "    <tr>\n",
       "      <th>count</th>\n",
       "      <td>48895.00</td>\n",
       "      <td>48895.00</td>\n",
       "      <td>48895.00</td>\n",
       "      <td>48895.00</td>\n",
       "    </tr>\n",
       "    <tr>\n",
       "      <th>mean</th>\n",
       "      <td>152.72</td>\n",
       "      <td>7.03</td>\n",
       "      <td>23.27</td>\n",
       "      <td>1.37</td>\n",
       "    </tr>\n",
       "    <tr>\n",
       "      <th>std</th>\n",
       "      <td>240.15</td>\n",
       "      <td>20.51</td>\n",
       "      <td>44.55</td>\n",
       "      <td>1.51</td>\n",
       "    </tr>\n",
       "    <tr>\n",
       "      <th>min</th>\n",
       "      <td>0.00</td>\n",
       "      <td>1.00</td>\n",
       "      <td>0.00</td>\n",
       "      <td>0.01</td>\n",
       "    </tr>\n",
       "    <tr>\n",
       "      <th>25%</th>\n",
       "      <td>69.00</td>\n",
       "      <td>1.00</td>\n",
       "      <td>1.00</td>\n",
       "      <td>0.28</td>\n",
       "    </tr>\n",
       "    <tr>\n",
       "      <th>50%</th>\n",
       "      <td>106.00</td>\n",
       "      <td>3.00</td>\n",
       "      <td>5.00</td>\n",
       "      <td>1.01</td>\n",
       "    </tr>\n",
       "    <tr>\n",
       "      <th>75%</th>\n",
       "      <td>175.00</td>\n",
       "      <td>5.00</td>\n",
       "      <td>24.00</td>\n",
       "      <td>1.80</td>\n",
       "    </tr>\n",
       "    <tr>\n",
       "      <th>max</th>\n",
       "      <td>10000.00</td>\n",
       "      <td>1250.00</td>\n",
       "      <td>629.00</td>\n",
       "      <td>58.50</td>\n",
       "    </tr>\n",
       "  </tbody>\n",
       "</table>\n",
       "</div>"
      ],
      "text/plain": [
       "         price  minimum_nights  number_of_reviews  reviews_per_month\n",
       "count 48895.00        48895.00           48895.00           48895.00\n",
       "mean    152.72            7.03              23.27               1.37\n",
       "std     240.15           20.51              44.55               1.51\n",
       "min       0.00            1.00               0.00               0.01\n",
       "25%      69.00            1.00               1.00               0.28\n",
       "50%     106.00            3.00               5.00               1.01\n",
       "75%     175.00            5.00              24.00               1.80\n",
       "max   10000.00         1250.00             629.00              58.50"
      ]
     },
     "execution_count": 797,
     "metadata": {},
     "output_type": "execute_result"
    }
   ],
   "source": [
    "num_cols = [\"price\", \"minimum_nights\",\"number_of_reviews\",\"reviews_per_month\"]\n",
    "data[num_cols].describe()"
   ]
  },
  {
   "cell_type": "markdown",
   "id": "8590696b",
   "metadata": {},
   "source": [
    "<h2 style = color:#ff5a60 >There seems to have outliers in numerical data. Let's explore them.</h2> "
   ]
  },
  {
   "cell_type": "code",
   "execution_count": 804,
   "id": "435554d7",
   "metadata": {},
   "outputs": [],
   "source": [
    "def box_plot_multiple(df, column_lst, n_rows = 1, n_cols = 1, title_size =0, fig_size = (15,8)):\n",
    "\n",
    "    plt.figure(figsize = fig_size)\n",
    "    \n",
    "    for i,j in enumerate(column_lst):\n",
    "        \n",
    "        plt.subplot(n_rows, n_cols,  i+1)\n",
    "        sns.boxplot(x=df[j])\n",
    "        plt.title(j, fontsize = title_size, weight = 'bold')    \n",
    "    \n",
    "    plt.show()"
   ]
  },
  {
   "cell_type": "code",
   "execution_count": 805,
   "id": "fb941ce3",
   "metadata": {},
   "outputs": [
    {
     "data": {
      "image/png": "[encoded data removed]",
      "text/plain": [
       "<Figure size 1080x576 with 4 Axes>"
      ]
     },
     "metadata": {
      "needs_background": "light"
     },
     "output_type": "display_data"
    }
   ],
   "source": [
    "box_plot_multiple(df = data, column_lst = num_cols,\n",
    "    n_rows=2,\n",
    "    n_cols=2, )"
   ]
  },
  {
   "cell_type": "markdown",
   "id": "254b8568",
   "metadata": {},
   "source": [
    "<h2 style = color:#ff5a60 >Price</h2> "
   ]
  },
  {
   "cell_type": "code",
   "execution_count": 807,
   "id": "fa666689",
   "metadata": {},
   "outputs": [
    {
     "data": {
      "image/png": "[encoded data removed]",
      "text/plain": [
       "<Figure size 432x432 with 1 Axes>"
      ]
     },
     "metadata": {
      "needs_background": "light"
     },
     "output_type": "display_data"
    }
   ],
   "source": [
    "plt.figure(figsize = (6,6))\n",
    "sns.boxplot(y=data[\"price\"])   \n",
    "plt.show()"
   ]
  },
  {
   "cell_type": "code",
   "execution_count": 808,
   "id": "4c1b3c08",
   "metadata": {},
   "outputs": [],
   "source": [
    "def check_outliers(data, thresh= 3):\n",
    "    threshold = thresh\n",
    "    outlier = []\n",
    "    avg = np.mean(data)\n",
    "    std = np.std(data)\n",
    "    for i in data:\n",
    "        z = (i-avg)/std\n",
    "        if z > threshold:\n",
    "            outlier.append(i)\n",
    "\n",
    "    return outlier"
   ]
  },
  {
   "cell_type": "code",
   "execution_count": 809,
   "id": "39b18b23",
   "metadata": {},
   "outputs": [
    {
     "name": "stdout",
     "output_type": "stream",
     "text": [
      "1066\n",
      "2521.059139784946\n",
      "10000\n"
     ]
    }
   ],
   "source": [
    "# Outlier Price for Entire Home/Apartments\n",
    "\n",
    "outliers_price_entire_home = check_outliers(data[\"price\"][data[\"room_type\"]==\"Entire home/apt\"], thresh= 3)\n",
    "print(min(outliers_price_entire_home))\n",
    "print(np.mean(outliers_price_entire_home))\n",
    "print(max(outliers_price_entire_home))"
   ]
  },
  {
   "cell_type": "code",
   "execution_count": 810,
   "id": "a8cda148",
   "metadata": {},
   "outputs": [
    {
     "name": "stdout",
     "output_type": "stream",
     "text": [
      "577\n",
      "1375.1851851851852\n",
      "10000\n"
     ]
    }
   ],
   "source": [
    "# Outlier Price for Private Room\n",
    "\n",
    "outliers_price_private_room = check_outliers(data[\"price\"][data[\"room_type\"]==\"Private room\"], thresh= 3)\n",
    "print(min(outliers_price_private_room))\n",
    "print(np.mean(outliers_price_private_room))\n",
    "print(max(outliers_price_private_room))"
   ]
  },
  {
   "cell_type": "code",
   "execution_count": 811,
   "id": "d8b1f68d",
   "metadata": {},
   "outputs": [
    {
     "name": "stdout",
     "output_type": "stream",
     "text": [
      "400\n",
      "713.2352941176471\n",
      "1800\n"
     ]
    }
   ],
   "source": [
    "# Outlier Price for Shared Room\n",
    "\n",
    "outliers_price_shared_room = check_outliers(data[\"price\"][data[\"room_type\"]==\"Shared room\"], thresh= 3)\n",
    "print(min(outliers_price_shared_room))\n",
    "print(np.mean(outliers_price_shared_room))\n",
    "print(max(outliers_price_shared_room))"
   ]
  },
  {
   "cell_type": "markdown",
   "id": "54ddc0d2",
   "metadata": {},
   "source": [
    "#### Capping"
   ]
  },
  {
   "cell_type": "code",
   "execution_count": 812,
   "id": "64533e30",
   "metadata": {},
   "outputs": [],
   "source": [
    "# Capped the outliers value with the mean of outliers values based on room type\n",
    "\n",
    "data[\"price\"][((data[\"room_type\"]==\"Entire home/apt\") & (data[\"price\"] > np.mean(outliers_price_entire_home)))] = np.mean(outliers_price_entire_home)\n",
    "data[\"price\"][((data[\"room_type\"]==\"Private room\") & (data[\"price\"] > np.mean(outliers_price_private_room)))] = np.mean(outliers_price_private_room)\n",
    "data[\"price\"][((data[\"room_type\"]==\"Shared room\") & (data[\"price\"] > np.mean(outliers_price_shared_room)))] = np.mean(outliers_price_shared_room)"
   ]
  },
  {
   "cell_type": "code",
   "execution_count": null,
   "id": "8b2c6a89",
   "metadata": {},
   "outputs": [],
   "source": []
  },
  {
   "cell_type": "code",
   "execution_count": null,
   "id": "37b5993d",
   "metadata": {},
   "outputs": [],
   "source": []
  },
  {
   "cell_type": "code",
   "execution_count": 813,
   "id": "ebce0057",
   "metadata": {},
   "outputs": [
    {
     "data": {
      "image/png": "[encoded data removed]",
      "text/plain": [
       "<Figure size 432x432 with 1 Axes>"
      ]
     },
     "metadata": {
      "needs_background": "light"
     },
     "output_type": "display_data"
    }
   ],
   "source": [
    "plt.figure(figsize = (6,6))\n",
    "sns.boxplot(y=data[\"price\"])   \n",
    "plt.show()"
   ]
  },
  {
   "cell_type": "markdown",
   "id": "d6426e97",
   "metadata": {},
   "source": [
    "# Minimum Nights"
   ]
  },
  {
   "cell_type": "code",
   "execution_count": 814,
   "id": "feab4dbc",
   "metadata": {},
   "outputs": [
    {
     "data": {
      "image/png": "[encoded data removed]",
      "text/plain": [
       "<Figure size 432x432 with 1 Axes>"
      ]
     },
     "metadata": {
      "needs_background": "light"
     },
     "output_type": "display_data"
    }
   ],
   "source": [
    "plt.figure(figsize = (6,6))\n",
    "sns.boxplot(y=data[\"minimum_nights\"])   \n",
    "plt.show()"
   ]
  },
  {
   "cell_type": "code",
   "execution_count": 815,
   "id": "0e874e3a",
   "metadata": {},
   "outputs": [
    {
     "name": "stdout",
     "output_type": "stream",
     "text": [
      "80\n",
      "179.26794258373207\n",
      "1250\n"
     ]
    }
   ],
   "source": [
    "# Outlier Price for Entire Home/Apartments\n",
    "\n",
    "outliers_minimum_nights_entire_home = check_outliers(data[\"minimum_nights\"][data[\"room_type\"]==\"Entire home/apt\"], thresh= 3)\n",
    "print(min(outliers_minimum_nights_entire_home))\n",
    "print(np.mean(outliers_minimum_nights_entire_home))\n",
    "print(max(outliers_minimum_nights_entire_home))"
   ]
  },
  {
   "cell_type": "code",
   "execution_count": 816,
   "id": "169736c9",
   "metadata": {},
   "outputs": [
    {
     "name": "stdout",
     "output_type": "stream",
     "text": [
      "55\n",
      "137.3783783783784\n",
      "999\n"
     ]
    }
   ],
   "source": [
    "# Outlier Price for Private room\n",
    "\n",
    "outliers_minimum_nights_private_room = check_outliers(data[\"minimum_nights\"][(data[\"room_type\"]==\"Private room\")], thresh= 3)\n",
    "print(min(outliers_minimum_nights_private_room))\n",
    "print(np.mean(outliers_minimum_nights_private_room))\n",
    "print(max(outliers_minimum_nights_private_room))"
   ]
  },
  {
   "cell_type": "code",
   "execution_count": 817,
   "id": "1c17aa90",
   "metadata": {},
   "outputs": [
    {
     "name": "stdout",
     "output_type": "stream",
     "text": [
      "90\n",
      "201.0\n",
      "999\n"
     ]
    }
   ],
   "source": [
    "# Outlier Price for Shared room\n",
    "\n",
    "outliers_minimum_nights_shared_room = check_outliers(data[\"minimum_nights\"][(data[\"room_type\"]==\"Shared room\")], thresh= 2)\n",
    "print(min(outliers_minimum_nights_shared_room))\n",
    "print(np.mean(outliers_minimum_nights_shared_room))\n",
    "print(max(outliers_minimum_nights_shared_room))"
   ]
  },
  {
   "cell_type": "markdown",
   "id": "d740f1de",
   "metadata": {},
   "source": [
    "## Capping minimum_nights"
   ]
  },
  {
   "cell_type": "code",
   "execution_count": 818,
   "id": "a6b299b6",
   "metadata": {},
   "outputs": [],
   "source": [
    "data[\"minimum_nights\"][((data[\"room_type\"]==\"Entire home/apt\") & (data[\"minimum_nights\"] > np.mean(outliers_minimum_nights_entire_home)))] = np.mean(outliers_minimum_nights_entire_home)\n",
    "data[\"minimum_nights\"][((data[\"room_type\"]==\"Shared room\") & (data[\"minimum_nights\"] > np.mean(outliers_minimum_nights_shared_room)))] = np.mean(outliers_minimum_nights_shared_room)\n",
    "data[\"minimum_nights\"][((data[\"room_type\"]==\"Private room\") & (data[\"minimum_nights\"] > np.mean(outliers_minimum_nights_private_room)))] = np.mean(outliers_minimum_nights_private_room)"
   ]
  },
  {
   "cell_type": "code",
   "execution_count": null,
   "id": "e74375f6",
   "metadata": {},
   "outputs": [],
   "source": []
  },
  {
   "cell_type": "code",
   "execution_count": null,
   "id": "ec03a718",
   "metadata": {},
   "outputs": [],
   "source": []
  },
  {
   "cell_type": "code",
   "execution_count": 819,
   "id": "83d6c16d",
   "metadata": {},
   "outputs": [
    {
     "data": {
      "image/png": "[encoded data removed]",
      "text/plain": [
       "<Figure size 432x432 with 1 Axes>"
      ]
     },
     "metadata": {
      "needs_background": "light"
     },
     "output_type": "display_data"
    }
   ],
   "source": [
    "plt.figure(figsize = (6,6))\n",
    "sns.boxplot(y=data[\"minimum_nights\"])   \n",
    "plt.show()"
   ]
  },
  {
   "cell_type": "markdown",
   "id": "2d6453b2",
   "metadata": {},
   "source": [
    "# number_of_reviews"
   ]
  },
  {
   "cell_type": "code",
   "execution_count": 820,
   "id": "86f74e6c",
   "metadata": {},
   "outputs": [
    {
     "data": {
      "image/png": "[encoded data removed]",
      "text/plain": [
       "<Figure size 432x432 with 1 Axes>"
      ]
     },
     "metadata": {
      "needs_background": "light"
     },
     "output_type": "display_data"
    }
   ],
   "source": [
    "plt.figure(figsize = (6,6))\n",
    "sns.boxplot(y=data[\"number_of_reviews\"])   \n",
    "plt.show()"
   ]
  },
  {
   "cell_type": "code",
   "execution_count": 821,
   "id": "a75dfa4e",
   "metadata": {},
   "outputs": [
    {
     "name": "stdout",
     "output_type": "stream",
     "text": [
      "157\n",
      "221.91400491400492\n",
      "629\n"
     ]
    }
   ],
   "source": [
    "# Outlier Price for Entire Home/Apartments\n",
    "\n",
    "outliers_number_of_reviews = check_outliers(data[\"number_of_reviews\"], thresh= 3)\n",
    "print(min(outliers_number_of_reviews))\n",
    "print(np.mean(outliers_number_of_reviews))\n",
    "print(max(outliers_number_of_reviews))"
   ]
  },
  {
   "cell_type": "markdown",
   "id": "a5efc418",
   "metadata": {},
   "source": [
    "# Capping values for number_of_reviews"
   ]
  },
  {
   "cell_type": "code",
   "execution_count": 822,
   "id": "a6a6c807",
   "metadata": {},
   "outputs": [],
   "source": [
    "data[\"number_of_reviews\"][data[\"number_of_reviews\"] > np.mean(outliers_number_of_reviews)] = np.mean(outliers_number_of_reviews)"
   ]
  },
  {
   "cell_type": "code",
   "execution_count": 823,
   "id": "981f2e9a",
   "metadata": {},
   "outputs": [
    {
     "data": {
      "image/png": "[encoded data removed]",
      "text/plain": [
       "<Figure size 432x432 with 1 Axes>"
      ]
     },
     "metadata": {
      "needs_background": "light"
     },
     "output_type": "display_data"
    }
   ],
   "source": [
    "plt.figure(figsize = (6,6))\n",
    "sns.boxplot(y=data[\"number_of_reviews\"])   \n",
    "plt.show()"
   ]
  },
  {
   "cell_type": "markdown",
   "id": "d51e3689",
   "metadata": {},
   "source": [
    "# reviews_per_month"
   ]
  },
  {
   "cell_type": "code",
   "execution_count": 824,
   "id": "a53258e7",
   "metadata": {},
   "outputs": [
    {
     "data": {
      "image/png": "[encoded data removed]",
      "text/plain": [
       "<Figure size 432x432 with 1 Axes>"
      ]
     },
     "metadata": {
      "needs_background": "light"
     },
     "output_type": "display_data"
    }
   ],
   "source": [
    "plt.figure(figsize = (6,6))\n",
    "sns.boxplot(y=data[\"reviews_per_month\"])   \n",
    "plt.show()"
   ]
  },
  {
   "cell_type": "code",
   "execution_count": 825,
   "id": "a535df2b",
   "metadata": {},
   "outputs": [
    {
     "name": "stdout",
     "output_type": "stream",
     "text": [
      "7.41\n",
      "9.488063583815029\n",
      "58.5\n"
     ]
    }
   ],
   "source": [
    "# Outlier Price for Private Room\n",
    "\n",
    "outliers_reviews_per_month = check_outliers(data[\"reviews_per_month\"], thresh= 4)\n",
    "print(min(outliers_reviews_per_month))\n",
    "print(np.mean(outliers_reviews_per_month))\n",
    "print(max(outliers_reviews_per_month))"
   ]
  },
  {
   "cell_type": "code",
   "execution_count": 826,
   "id": "d805e788",
   "metadata": {},
   "outputs": [],
   "source": [
    "data[\"reviews_per_month\"][data[\"reviews_per_month\"] >np.mean(outliers_reviews_per_month)] = np.mean(outliers_reviews_per_month)"
   ]
  },
  {
   "cell_type": "code",
   "execution_count": 827,
   "id": "373f8945",
   "metadata": {},
   "outputs": [
    {
     "data": {
      "image/png": "[encoded data removed]",
      "text/plain": [
       "<Figure size 432x432 with 1 Axes>"
      ]
     },
     "metadata": {
      "needs_background": "light"
     },
     "output_type": "display_data"
    }
   ],
   "source": [
    "plt.figure(figsize = (6,6))\n",
    "sns.boxplot(y=data[\"reviews_per_month\"])   \n",
    "plt.show()"
   ]
  },
  {
   "cell_type": "code",
   "execution_count": 828,
   "id": "99866ff2",
   "metadata": {},
   "outputs": [
    {
     "data": {
      "image/png": "[encoded data removed]",
      "text/plain": [
       "<Figure size 1080x576 with 4 Axes>"
      ]
     },
     "metadata": {
      "needs_background": "light"
     },
     "output_type": "display_data"
    }
   ],
   "source": [
    "box_plot_multiple(df = data, column_lst = num_cols,\n",
    "    n_rows=2,\n",
    "    n_cols=2, )"
   ]
  },
  {
   "cell_type": "code",
   "execution_count": 676,
   "id": "1960116e",
   "metadata": {},
   "outputs": [
    {
     "data": {
      "text/html": [
       "<div>\n",
       "<style scoped>\n",
       "    .dataframe tbody tr th:only-of-type {\n",
       "        vertical-align: middle;\n",
       "    }\n",
       "\n",
       "    .dataframe tbody tr th {\n",
       "        vertical-align: top;\n",
       "    }\n",
       "\n",
       "    .dataframe thead th {\n",
       "        text-align: right;\n",
       "    }\n",
       "</style>\n",
       "<table border=\"1\" class=\"dataframe\">\n",
       "  <thead>\n",
       "    <tr style=\"text-align: right;\">\n",
       "      <th></th>\n",
       "      <th>price</th>\n",
       "      <th>minimum_nights</th>\n",
       "      <th>number_of_reviews</th>\n",
       "      <th>reviews_per_month</th>\n",
       "    </tr>\n",
       "  </thead>\n",
       "  <tbody>\n",
       "    <tr>\n",
       "      <th>count</th>\n",
       "      <td>48895.00</td>\n",
       "      <td>48895.00</td>\n",
       "      <td>48895.00</td>\n",
       "      <td>48895.00</td>\n",
       "    </tr>\n",
       "    <tr>\n",
       "      <th>mean</th>\n",
       "      <td>149.09</td>\n",
       "      <td>6.68</td>\n",
       "      <td>22.68</td>\n",
       "      <td>1.36</td>\n",
       "    </tr>\n",
       "    <tr>\n",
       "      <th>std</th>\n",
       "      <td>165.71</td>\n",
       "      <td>13.44</td>\n",
       "      <td>40.77</td>\n",
       "      <td>1.45</td>\n",
       "    </tr>\n",
       "    <tr>\n",
       "      <th>min</th>\n",
       "      <td>0.00</td>\n",
       "      <td>1.00</td>\n",
       "      <td>0.00</td>\n",
       "      <td>0.01</td>\n",
       "    </tr>\n",
       "    <tr>\n",
       "      <th>25%</th>\n",
       "      <td>69.00</td>\n",
       "      <td>1.00</td>\n",
       "      <td>1.00</td>\n",
       "      <td>0.28</td>\n",
       "    </tr>\n",
       "    <tr>\n",
       "      <th>50%</th>\n",
       "      <td>106.00</td>\n",
       "      <td>3.00</td>\n",
       "      <td>5.00</td>\n",
       "      <td>1.01</td>\n",
       "    </tr>\n",
       "    <tr>\n",
       "      <th>75%</th>\n",
       "      <td>175.00</td>\n",
       "      <td>5.00</td>\n",
       "      <td>24.00</td>\n",
       "      <td>1.80</td>\n",
       "    </tr>\n",
       "    <tr>\n",
       "      <th>max</th>\n",
       "      <td>2521.06</td>\n",
       "      <td>201.00</td>\n",
       "      <td>221.91</td>\n",
       "      <td>9.49</td>\n",
       "    </tr>\n",
       "  </tbody>\n",
       "</table>\n",
       "</div>"
      ],
      "text/plain": [
       "         price  minimum_nights  number_of_reviews  reviews_per_month\n",
       "count 48895.00        48895.00           48895.00           48895.00\n",
       "mean    149.09            6.68              22.68               1.36\n",
       "std     165.71           13.44              40.77               1.45\n",
       "min       0.00            1.00               0.00               0.01\n",
       "25%      69.00            1.00               1.00               0.28\n",
       "50%     106.00            3.00               5.00               1.01\n",
       "75%     175.00            5.00              24.00               1.80\n",
       "max    2521.06          201.00             221.91               9.49"
      ]
     },
     "execution_count": 676,
     "metadata": {},
     "output_type": "execute_result"
    }
   ],
   "source": [
    "data[num_cols].describe()"
   ]
  },
  {
   "cell_type": "markdown",
   "id": "8f035ce8",
   "metadata": {},
   "source": [
    "### 3. Feature Engineering: Create Some new columns\n",
    "\n",
    "- Month of Review\n",
    "- Year of Review\n",
    "- Number of Properties Host\n",
    "- Binning of Price\n",
    "- Binning of minimum nights\n",
    "- Binning of number of reviews\n",
    "- Binnging of reviews_per_month\n",
    "- Binning of Availability 365\n",
    "- Age of the property\n",
    "- Property Age Bins\n",
    "- Revenue"
   ]
  },
  {
   "cell_type": "markdown",
   "id": "213c231a",
   "metadata": {},
   "source": [
    "### Month and Year of the Last Review"
   ]
  },
  {
   "cell_type": "code",
   "execution_count": 677,
   "id": "40f22ef8",
   "metadata": {},
   "outputs": [],
   "source": [
    "data['last_review_year'] = pd.DatetimeIndex(data['last_review']).year\n",
    "data['last_review_month'] = pd.DatetimeIndex(data['last_review']).month"
   ]
  },
  {
   "cell_type": "code",
   "execution_count": 678,
   "id": "709a45c0",
   "metadata": {},
   "outputs": [],
   "source": [
    "data['last_review_year'] = data['last_review_year'].astype(str)"
   ]
  },
  {
   "cell_type": "code",
   "execution_count": 679,
   "id": "41d768dc",
   "metadata": {},
   "outputs": [],
   "source": [
    "data['last_review_year'][data['last_review_year']==\"1990\"] = \"Not Given\""
   ]
  },
  {
   "cell_type": "code",
   "execution_count": 680,
   "id": "e8006bc1",
   "metadata": {},
   "outputs": [
    {
     "data": {
      "text/plain": [
       "2019         25209\n",
       "Not Given    10052\n",
       "2018          6050\n",
       "2017          3205\n",
       "2016          2707\n",
       "2015          1393\n",
       "2014           199\n",
       "2013            48\n",
       "2012            25\n",
       "2011             7\n",
       "Name: last_review_year, dtype: int64"
      ]
     },
     "execution_count": 680,
     "metadata": {},
     "output_type": "execute_result"
    }
   ],
   "source": [
    "data['last_review_year'].value_counts()"
   ]
  },
  {
   "cell_type": "code",
   "execution_count": 681,
   "id": "3d5a5a5e",
   "metadata": {},
   "outputs": [],
   "source": [
    "data['last_review_month'] = data['last_review_month'].astype(str)"
   ]
  },
  {
   "cell_type": "code",
   "execution_count": 682,
   "id": "61413803",
   "metadata": {},
   "outputs": [],
   "source": [
    "data['last_review_month'][(data['last_review_year']==\"Not Given\") & (data['last_review_month']=='1')] = \"Not Given\""
   ]
  },
  {
   "cell_type": "code",
   "execution_count": 683,
   "id": "527adfac",
   "metadata": {},
   "outputs": [
    {
     "data": {
      "text/plain": [
       "6            11785\n",
       "Not Given    10052\n",
       "5             4875\n",
       "1             3548\n",
       "4             2618\n",
       "2             2509\n",
       "3             2300\n",
       "7             2279\n",
       "8             2028\n",
       "12            1953\n",
       "9             1828\n",
       "10            1742\n",
       "11            1378\n",
       "Name: last_review_month, dtype: int64"
      ]
     },
     "execution_count": 683,
     "metadata": {},
     "output_type": "execute_result"
    }
   ],
   "source": [
    "data['last_review_month'].value_counts()"
   ]
  },
  {
   "cell_type": "code",
   "execution_count": 684,
   "id": "54bf3ec7",
   "metadata": {},
   "outputs": [
    {
     "data": {
      "text/html": [
       "<div>\n",
       "<style scoped>\n",
       "    .dataframe tbody tr th:only-of-type {\n",
       "        vertical-align: middle;\n",
       "    }\n",
       "\n",
       "    .dataframe tbody tr th {\n",
       "        vertical-align: top;\n",
       "    }\n",
       "\n",
       "    .dataframe thead th {\n",
       "        text-align: right;\n",
       "    }\n",
       "</style>\n",
       "<table border=\"1\" class=\"dataframe\">\n",
       "  <thead>\n",
       "    <tr style=\"text-align: right;\">\n",
       "      <th></th>\n",
       "      <th>id</th>\n",
       "      <th>name</th>\n",
       "      <th>host_id</th>\n",
       "      <th>host_name</th>\n",
       "      <th>neighbourhood_group</th>\n",
       "      <th>neighbourhood</th>\n",
       "      <th>latitude</th>\n",
       "      <th>longitude</th>\n",
       "      <th>room_type</th>\n",
       "      <th>price</th>\n",
       "      <th>minimum_nights</th>\n",
       "      <th>number_of_reviews</th>\n",
       "      <th>last_review</th>\n",
       "      <th>reviews_per_month</th>\n",
       "      <th>calculated_host_listings_count</th>\n",
       "      <th>availability_365</th>\n",
       "      <th>last_review_year</th>\n",
       "      <th>last_review_month</th>\n",
       "    </tr>\n",
       "  </thead>\n",
       "  <tbody>\n",
       "    <tr>\n",
       "      <th>0</th>\n",
       "      <td>2539</td>\n",
       "      <td>Clean &amp; quiet apt home by the park</td>\n",
       "      <td>2787</td>\n",
       "      <td>John</td>\n",
       "      <td>Brooklyn</td>\n",
       "      <td>Kensington</td>\n",
       "      <td>40.65</td>\n",
       "      <td>-73.97</td>\n",
       "      <td>Private room</td>\n",
       "      <td>149.00</td>\n",
       "      <td>1.00</td>\n",
       "      <td>9.00</td>\n",
       "      <td>19-10-2018</td>\n",
       "      <td>0.21</td>\n",
       "      <td>6</td>\n",
       "      <td>365</td>\n",
       "      <td>2018</td>\n",
       "      <td>10</td>\n",
       "    </tr>\n",
       "    <tr>\n",
       "      <th>1</th>\n",
       "      <td>2595</td>\n",
       "      <td>Skylit Midtown Castle</td>\n",
       "      <td>2845</td>\n",
       "      <td>Jennifer</td>\n",
       "      <td>Manhattan</td>\n",
       "      <td>Midtown</td>\n",
       "      <td>40.75</td>\n",
       "      <td>-73.98</td>\n",
       "      <td>Entire home/apt</td>\n",
       "      <td>225.00</td>\n",
       "      <td>1.00</td>\n",
       "      <td>45.00</td>\n",
       "      <td>21-05-2019</td>\n",
       "      <td>0.38</td>\n",
       "      <td>2</td>\n",
       "      <td>355</td>\n",
       "      <td>2019</td>\n",
       "      <td>5</td>\n",
       "    </tr>\n",
       "    <tr>\n",
       "      <th>2</th>\n",
       "      <td>3647</td>\n",
       "      <td>THE VILLAGE OF HARLEM....NEW YORK !</td>\n",
       "      <td>4632</td>\n",
       "      <td>Elisabeth</td>\n",
       "      <td>Manhattan</td>\n",
       "      <td>Harlem</td>\n",
       "      <td>40.81</td>\n",
       "      <td>-73.94</td>\n",
       "      <td>Private room</td>\n",
       "      <td>150.00</td>\n",
       "      <td>3.00</td>\n",
       "      <td>0.00</td>\n",
       "      <td>1990-01-01</td>\n",
       "      <td>1.34</td>\n",
       "      <td>1</td>\n",
       "      <td>365</td>\n",
       "      <td>Not Given</td>\n",
       "      <td>Not Given</td>\n",
       "    </tr>\n",
       "    <tr>\n",
       "      <th>3</th>\n",
       "      <td>3831</td>\n",
       "      <td>Cozy Entire Floor of Brownstone</td>\n",
       "      <td>4869</td>\n",
       "      <td>LisaRoxanne</td>\n",
       "      <td>Brooklyn</td>\n",
       "      <td>Clinton Hill</td>\n",
       "      <td>40.69</td>\n",
       "      <td>-73.96</td>\n",
       "      <td>Entire home/apt</td>\n",
       "      <td>89.00</td>\n",
       "      <td>1.00</td>\n",
       "      <td>221.91</td>\n",
       "      <td>05-07-2019</td>\n",
       "      <td>4.64</td>\n",
       "      <td>1</td>\n",
       "      <td>194</td>\n",
       "      <td>2019</td>\n",
       "      <td>5</td>\n",
       "    </tr>\n",
       "    <tr>\n",
       "      <th>4</th>\n",
       "      <td>5022</td>\n",
       "      <td>Entire Apt: Spacious Studio/Loft by central park</td>\n",
       "      <td>7192</td>\n",
       "      <td>Laura</td>\n",
       "      <td>Manhattan</td>\n",
       "      <td>East Harlem</td>\n",
       "      <td>40.80</td>\n",
       "      <td>-73.94</td>\n",
       "      <td>Entire home/apt</td>\n",
       "      <td>80.00</td>\n",
       "      <td>10.00</td>\n",
       "      <td>9.00</td>\n",
       "      <td>19-11-2018</td>\n",
       "      <td>0.10</td>\n",
       "      <td>1</td>\n",
       "      <td>0</td>\n",
       "      <td>2018</td>\n",
       "      <td>11</td>\n",
       "    </tr>\n",
       "    <tr>\n",
       "      <th>...</th>\n",
       "      <td>...</td>\n",
       "      <td>...</td>\n",
       "      <td>...</td>\n",
       "      <td>...</td>\n",
       "      <td>...</td>\n",
       "      <td>...</td>\n",
       "      <td>...</td>\n",
       "      <td>...</td>\n",
       "      <td>...</td>\n",
       "      <td>...</td>\n",
       "      <td>...</td>\n",
       "      <td>...</td>\n",
       "      <td>...</td>\n",
       "      <td>...</td>\n",
       "      <td>...</td>\n",
       "      <td>...</td>\n",
       "      <td>...</td>\n",
       "      <td>...</td>\n",
       "    </tr>\n",
       "    <tr>\n",
       "      <th>48890</th>\n",
       "      <td>36484665</td>\n",
       "      <td>Charming one bedroom - newly renovated rowhouse</td>\n",
       "      <td>8232441</td>\n",
       "      <td>Sabrina</td>\n",
       "      <td>Brooklyn</td>\n",
       "      <td>Bedford-Stuyvesant</td>\n",
       "      <td>40.68</td>\n",
       "      <td>-73.95</td>\n",
       "      <td>Private room</td>\n",
       "      <td>70.00</td>\n",
       "      <td>2.00</td>\n",
       "      <td>0.00</td>\n",
       "      <td>1990-01-01</td>\n",
       "      <td>1.55</td>\n",
       "      <td>2</td>\n",
       "      <td>9</td>\n",
       "      <td>Not Given</td>\n",
       "      <td>Not Given</td>\n",
       "    </tr>\n",
       "    <tr>\n",
       "      <th>48891</th>\n",
       "      <td>36485057</td>\n",
       "      <td>Affordable room in Bushwick/East Williamsburg</td>\n",
       "      <td>6570630</td>\n",
       "      <td>Marisol</td>\n",
       "      <td>Brooklyn</td>\n",
       "      <td>Bushwick</td>\n",
       "      <td>40.70</td>\n",
       "      <td>-73.93</td>\n",
       "      <td>Private room</td>\n",
       "      <td>40.00</td>\n",
       "      <td>4.00</td>\n",
       "      <td>0.00</td>\n",
       "      <td>1990-01-01</td>\n",
       "      <td>1.35</td>\n",
       "      <td>2</td>\n",
       "      <td>36</td>\n",
       "      <td>Not Given</td>\n",
       "      <td>Not Given</td>\n",
       "    </tr>\n",
       "    <tr>\n",
       "      <th>48892</th>\n",
       "      <td>36485431</td>\n",
       "      <td>Sunny Studio at Historical Neighborhood</td>\n",
       "      <td>23492952</td>\n",
       "      <td>Ilgar &amp; Aysel</td>\n",
       "      <td>Manhattan</td>\n",
       "      <td>Harlem</td>\n",
       "      <td>40.81</td>\n",
       "      <td>-73.95</td>\n",
       "      <td>Entire home/apt</td>\n",
       "      <td>115.00</td>\n",
       "      <td>10.00</td>\n",
       "      <td>0.00</td>\n",
       "      <td>1990-01-01</td>\n",
       "      <td>1.34</td>\n",
       "      <td>1</td>\n",
       "      <td>27</td>\n",
       "      <td>Not Given</td>\n",
       "      <td>Not Given</td>\n",
       "    </tr>\n",
       "    <tr>\n",
       "      <th>48893</th>\n",
       "      <td>36485609</td>\n",
       "      <td>43rd St. Time Square-cozy single bed</td>\n",
       "      <td>30985759</td>\n",
       "      <td>Taz</td>\n",
       "      <td>Manhattan</td>\n",
       "      <td>Hell's Kitchen</td>\n",
       "      <td>40.76</td>\n",
       "      <td>-73.99</td>\n",
       "      <td>Shared room</td>\n",
       "      <td>55.00</td>\n",
       "      <td>1.00</td>\n",
       "      <td>0.00</td>\n",
       "      <td>1990-01-01</td>\n",
       "      <td>1.84</td>\n",
       "      <td>6</td>\n",
       "      <td>2</td>\n",
       "      <td>Not Given</td>\n",
       "      <td>Not Given</td>\n",
       "    </tr>\n",
       "    <tr>\n",
       "      <th>48894</th>\n",
       "      <td>36487245</td>\n",
       "      <td>Trendy duplex in the very heart of Hell's Kitchen</td>\n",
       "      <td>68119814</td>\n",
       "      <td>Christophe</td>\n",
       "      <td>Manhattan</td>\n",
       "      <td>Hell's Kitchen</td>\n",
       "      <td>40.76</td>\n",
       "      <td>-73.99</td>\n",
       "      <td>Private room</td>\n",
       "      <td>90.00</td>\n",
       "      <td>7.00</td>\n",
       "      <td>0.00</td>\n",
       "      <td>1990-01-01</td>\n",
       "      <td>1.84</td>\n",
       "      <td>1</td>\n",
       "      <td>23</td>\n",
       "      <td>Not Given</td>\n",
       "      <td>Not Given</td>\n",
       "    </tr>\n",
       "  </tbody>\n",
       "</table>\n",
       "<p>48895 rows × 18 columns</p>\n",
       "</div>"
      ],
      "text/plain": [
       "             id                                               name   host_id  \\\n",
       "0          2539                 Clean & quiet apt home by the park      2787   \n",
       "1          2595                              Skylit Midtown Castle      2845   \n",
       "2          3647                THE VILLAGE OF HARLEM....NEW YORK !      4632   \n",
       "3          3831                    Cozy Entire Floor of Brownstone      4869   \n",
       "4          5022   Entire Apt: Spacious Studio/Loft by central park      7192   \n",
       "...         ...                                                ...       ...   \n",
       "48890  36484665    Charming one bedroom - newly renovated rowhouse   8232441   \n",
       "48891  36485057      Affordable room in Bushwick/East Williamsburg   6570630   \n",
       "48892  36485431            Sunny Studio at Historical Neighborhood  23492952   \n",
       "48893  36485609               43rd St. Time Square-cozy single bed  30985759   \n",
       "48894  36487245  Trendy duplex in the very heart of Hell's Kitchen  68119814   \n",
       "\n",
       "           host_name neighbourhood_group       neighbourhood  latitude  \\\n",
       "0               John            Brooklyn          Kensington     40.65   \n",
       "1           Jennifer           Manhattan             Midtown     40.75   \n",
       "2          Elisabeth           Manhattan              Harlem     40.81   \n",
       "3        LisaRoxanne            Brooklyn        Clinton Hill     40.69   \n",
       "4              Laura           Manhattan         East Harlem     40.80   \n",
       "...              ...                 ...                 ...       ...   \n",
       "48890        Sabrina            Brooklyn  Bedford-Stuyvesant     40.68   \n",
       "48891        Marisol            Brooklyn            Bushwick     40.70   \n",
       "48892  Ilgar & Aysel           Manhattan              Harlem     40.81   \n",
       "48893            Taz           Manhattan      Hell's Kitchen     40.76   \n",
       "48894     Christophe           Manhattan      Hell's Kitchen     40.76   \n",
       "\n",
       "       longitude        room_type  price  minimum_nights  number_of_reviews  \\\n",
       "0         -73.97     Private room 149.00            1.00               9.00   \n",
       "1         -73.98  Entire home/apt 225.00            1.00              45.00   \n",
       "2         -73.94     Private room 150.00            3.00               0.00   \n",
       "3         -73.96  Entire home/apt  89.00            1.00             221.91   \n",
       "4         -73.94  Entire home/apt  80.00           10.00               9.00   \n",
       "...          ...              ...    ...             ...                ...   \n",
       "48890     -73.95     Private room  70.00            2.00               0.00   \n",
       "48891     -73.93     Private room  40.00            4.00               0.00   \n",
       "48892     -73.95  Entire home/apt 115.00           10.00               0.00   \n",
       "48893     -73.99      Shared room  55.00            1.00               0.00   \n",
       "48894     -73.99     Private room  90.00            7.00               0.00   \n",
       "\n",
       "      last_review  reviews_per_month  calculated_host_listings_count  \\\n",
       "0      19-10-2018               0.21                               6   \n",
       "1      21-05-2019               0.38                               2   \n",
       "2      1990-01-01               1.34                               1   \n",
       "3      05-07-2019               4.64                               1   \n",
       "4      19-11-2018               0.10                               1   \n",
       "...           ...                ...                             ...   \n",
       "48890  1990-01-01               1.55                               2   \n",
       "48891  1990-01-01               1.35                               2   \n",
       "48892  1990-01-01               1.34                               1   \n",
       "48893  1990-01-01               1.84                               6   \n",
       "48894  1990-01-01               1.84                               1   \n",
       "\n",
       "       availability_365 last_review_year last_review_month  \n",
       "0                   365             2018                10  \n",
       "1                   355             2019                 5  \n",
       "2                   365        Not Given         Not Given  \n",
       "3                   194             2019                 5  \n",
       "4                     0             2018                11  \n",
       "...                 ...              ...               ...  \n",
       "48890                 9        Not Given         Not Given  \n",
       "48891                36        Not Given         Not Given  \n",
       "48892                27        Not Given         Not Given  \n",
       "48893                 2        Not Given         Not Given  \n",
       "48894                23        Not Given         Not Given  \n",
       "\n",
       "[48895 rows x 18 columns]"
      ]
     },
     "execution_count": 684,
     "metadata": {},
     "output_type": "execute_result"
    }
   ],
   "source": [
    "data"
   ]
  },
  {
   "cell_type": "markdown",
   "id": "07b21b89",
   "metadata": {},
   "source": [
    "### Binning of calculated_host_listings_count"
   ]
  },
  {
   "cell_type": "code",
   "execution_count": 685,
   "id": "405b1cf0",
   "metadata": {},
   "outputs": [],
   "source": [
    "data[\"Properties_host_listings_range\"] = pd.cut(data[\"calculated_host_listings_count\"], \n",
    "                                                  [0,1, 10,50,400], \n",
    "                                                  labels=[\"1 Property\", \"2-10 Properties\", \n",
    "                                                          \"11 to 50 Properties\", \"51 or more Properties\"])"
   ]
  },
  {
   "cell_type": "code",
   "execution_count": 686,
   "id": "c1ba3e8c",
   "metadata": {},
   "outputs": [
    {
     "data": {
      "text/plain": [
       "1 Property               32303\n",
       "2-10 Properties          13625\n",
       "11 to 50 Properties       1645\n",
       "51 or more Properties     1322\n",
       "Name: Properties_host_listings_range, dtype: int64"
      ]
     },
     "execution_count": 686,
     "metadata": {},
     "output_type": "execute_result"
    }
   ],
   "source": [
    "data[\"Properties_host_listings_range\"].value_counts()"
   ]
  },
  {
   "cell_type": "markdown",
   "id": "2dda1c2c",
   "metadata": {},
   "source": [
    "### Binning of Price"
   ]
  },
  {
   "cell_type": "code",
   "execution_count": 687,
   "id": "f3a25b2c",
   "metadata": {},
   "outputs": [],
   "source": [
    "data[\"Price_range\"] = pd.cut(data[\"price\"], [0,100, 200,500,3000],labels=[\"0-100\", \"101-200\", \"201-500\", \"500 plus\"])"
   ]
  },
  {
   "cell_type": "code",
   "execution_count": 688,
   "id": "0333911b",
   "metadata": {},
   "outputs": [
    {
     "data": {
      "text/plain": [
       "0-100       23917\n",
       "101-200     16583\n",
       "201-500      7340\n",
       "500 plus     1044\n",
       "Name: Price_range, dtype: int64"
      ]
     },
     "execution_count": 688,
     "metadata": {},
     "output_type": "execute_result"
    }
   ],
   "source": [
    "data[\"Price_range\"].value_counts()"
   ]
  },
  {
   "cell_type": "markdown",
   "id": "76aa180e",
   "metadata": {},
   "source": [
    "### Binning of minimum nights\n"
   ]
  },
  {
   "cell_type": "code",
   "execution_count": 689,
   "id": "47c179b5",
   "metadata": {},
   "outputs": [],
   "source": [
    "data[\"minimum_nights_range\"] = pd.cut(data[\"minimum_nights\"], [0,10, 50,100,300],labels=[\"0-10\", \"11-50\", \"51-100\", \"101 plus\"])\n"
   ]
  },
  {
   "cell_type": "code",
   "execution_count": 690,
   "id": "13ded2ec",
   "metadata": {},
   "outputs": [
    {
     "data": {
      "text/plain": [
       "0-10        42255\n",
       "11-50        6187\n",
       "51-100        279\n",
       "101 plus      174\n",
       "Name: minimum_nights_range, dtype: int64"
      ]
     },
     "execution_count": 690,
     "metadata": {},
     "output_type": "execute_result"
    }
   ],
   "source": [
    "data[\"minimum_nights_range\"].value_counts()"
   ]
  },
  {
   "cell_type": "markdown",
   "id": "95590b43",
   "metadata": {},
   "source": [
    "### Binning of number of reviews\n"
   ]
  },
  {
   "cell_type": "code",
   "execution_count": 691,
   "id": "d7786030",
   "metadata": {},
   "outputs": [],
   "source": [
    "data[\"number_of_reviews_range\"] = pd.cut(data[\"number_of_reviews\"], [0,50, 100,150, 400],labels=[\"0-50\", \"51-100\", \"101-150\", \"151 plus\"])"
   ]
  },
  {
   "cell_type": "code",
   "execution_count": 692,
   "id": "46b86122",
   "metadata": {},
   "outputs": [],
   "source": [
    "data[\"number_of_reviews_range\"] = data[\"number_of_reviews_range\"].astype(str)"
   ]
  },
  {
   "cell_type": "code",
   "execution_count": 693,
   "id": "4201b794",
   "metadata": {},
   "outputs": [],
   "source": [
    "data[\"number_of_reviews_range\"][data[\"number_of_reviews_range\"]==\"nan\"] = \"Not Known\""
   ]
  },
  {
   "cell_type": "code",
   "execution_count": 694,
   "id": "c40f7f4f",
   "metadata": {},
   "outputs": [
    {
     "data": {
      "text/plain": [
       "0-50         31884\n",
       "Not Known    10052\n",
       "51-100        3964\n",
       "101-150       1650\n",
       "151 plus      1345\n",
       "Name: number_of_reviews_range, dtype: int64"
      ]
     },
     "execution_count": 694,
     "metadata": {},
     "output_type": "execute_result"
    }
   ],
   "source": [
    "data[\"number_of_reviews_range\"].value_counts()"
   ]
  },
  {
   "cell_type": "markdown",
   "id": "c81dca96",
   "metadata": {},
   "source": [
    "### Binnging of reviews_per_month"
   ]
  },
  {
   "cell_type": "code",
   "execution_count": 695,
   "id": "b4b91f7c",
   "metadata": {},
   "outputs": [],
   "source": [
    "data[\"reviews_per_month_range\"] = pd.cut(data[\"reviews_per_month\"], [0,2,4,6,8,20], labels = [\"0-2\", \"2-4\", \"4-6\", \"6-8\", \"8 plus\"])"
   ]
  },
  {
   "cell_type": "code",
   "execution_count": 696,
   "id": "66014561",
   "metadata": {},
   "outputs": [
    {
     "data": {
      "text/plain": [
       "0-2       38645\n",
       "2-4        7241\n",
       "4-6        2257\n",
       "6-8         519\n",
       "8 plus      233\n",
       "Name: reviews_per_month_range, dtype: int64"
      ]
     },
     "execution_count": 696,
     "metadata": {},
     "output_type": "execute_result"
    }
   ],
   "source": [
    "data[\"reviews_per_month_range\"].value_counts()"
   ]
  },
  {
   "cell_type": "markdown",
   "id": "a1ea3a46",
   "metadata": {},
   "source": [
    "### Binning of Availability 365"
   ]
  },
  {
   "cell_type": "code",
   "execution_count": 697,
   "id": "9916132e",
   "metadata": {},
   "outputs": [
    {
     "data": {
      "text/plain": [
       "0-days       17533\n",
       "201 plus     13333\n",
       "101-200       5792\n",
       "51 to 100     4842\n",
       "11 to 50      4783\n",
       "1-10 days     2612\n",
       "Name: availability_365_range, dtype: int64"
      ]
     },
     "execution_count": 697,
     "metadata": {},
     "output_type": "execute_result"
    }
   ],
   "source": [
    "def avialability_range(num):\n",
    "    if num==0:\n",
    "        return \"0-days\"\n",
    "    elif num>=1 and num<=10:\n",
    "        return \"1-10 days\"\n",
    "    elif num>=11 and num<=50:\n",
    "        return \"11 to 50\" \n",
    "    elif num>=51 and num<=100:\n",
    "        return \"51 to 100\" \n",
    "    elif num>=101 and num<=200:\n",
    "        return \"101-200\"\n",
    "    else:\n",
    "        return \"201 plus\"\n",
    "\n",
    "data[\"availability_365_range\"] = data[\"availability_365\"].apply(avialability_range)\n",
    "\n",
    "\n",
    "data[\"availability_365_range\"].value_counts()"
   ]
  },
  {
   "cell_type": "markdown",
   "id": "80913a58",
   "metadata": {},
   "source": [
    "### Revenue"
   ]
  },
  {
   "cell_type": "code",
   "execution_count": 698,
   "id": "3250a763",
   "metadata": {},
   "outputs": [],
   "source": [
    "data[\"Revenue\"] = data[\"minimum_nights\"]*data[\"price\"]"
   ]
  },
  {
   "cell_type": "markdown",
   "id": "52ab2049",
   "metadata": {},
   "source": [
    "### Binning of Revenue"
   ]
  },
  {
   "cell_type": "code",
   "execution_count": 699,
   "id": "e68c29ee",
   "metadata": {
    "scrolled": false
   },
   "outputs": [
    {
     "data": {
      "text/plain": [
       "60"
      ]
     },
     "execution_count": 699,
     "metadata": {},
     "output_type": "execute_result"
    }
   ],
   "source": [
    "data[\"Revenue\"][(data[\"Revenue\"]>50000) & (data[\"Revenue\"]<=100000000000)].count()"
   ]
  },
  {
   "cell_type": "code",
   "execution_count": 700,
   "id": "a07b0730",
   "metadata": {},
   "outputs": [],
   "source": [
    "data[\"revenue_range\"] = pd.cut(data[\"Revenue\"], [0,200, 600,2000, 10000, 100000000],\n",
    "                               labels=[\"0-200\", \"201-600\", \"601-2000\", \"2001- 10000\", \"10000 plus\"])"
   ]
  },
  {
   "cell_type": "code",
   "execution_count": 701,
   "id": "41ddaced",
   "metadata": {},
   "outputs": [
    {
     "data": {
      "text/plain": [
       "0-200          18624\n",
       "201-600        16427\n",
       "601-2000        8682\n",
       "2001- 10000     4549\n",
       "10000 plus       602\n",
       "Name: revenue_range, dtype: int64"
      ]
     },
     "execution_count": 701,
     "metadata": {},
     "output_type": "execute_result"
    }
   ],
   "source": [
    "data[\"revenue_range\"].value_counts()"
   ]
  },
  {
   "cell_type": "markdown",
   "id": "9886a220",
   "metadata": {},
   "source": [
    "### Age of the property and bins"
   ]
  },
  {
   "cell_type": "code",
   "execution_count": 702,
   "id": "7a4abc21",
   "metadata": {},
   "outputs": [],
   "source": [
    "def age_property(df):\n",
    "    try:\n",
    "        return math.ceil(df[\"number_of_reviews\"]/(12*df[\"reviews_per_month\"]))\n",
    "    except:\n",
    "        return 0"
   ]
  },
  {
   "cell_type": "code",
   "execution_count": 703,
   "id": "c8a9d2a7",
   "metadata": {},
   "outputs": [],
   "source": [
    "# age propperty bins\n",
    "\n",
    "def age_property_bins(num):\n",
    "    if num==0:\n",
    "        return \"Not known\"\n",
    "    elif num>=1 and num<=2:\n",
    "        return \"1-2\"\n",
    "    elif num>=3 and num<=4:\n",
    "        return \"3-4\"\n",
    "    elif num>=5 and num<=6:\n",
    "        return \"5-6\"\n",
    "    else: \n",
    "        return \"7 or more\"     "
   ]
  },
  {
   "cell_type": "code",
   "execution_count": 704,
   "id": "9e67df4b",
   "metadata": {},
   "outputs": [
    {
     "data": {
      "text/plain": [
       "1-2          20205\n",
       "3-4          11485\n",
       "Not known    10052\n",
       "5-6           5424\n",
       "7 or more     1729\n",
       "Name: Property_age_range, dtype: int64"
      ]
     },
     "execution_count": 704,
     "metadata": {},
     "output_type": "execute_result"
    }
   ],
   "source": [
    "data[\"Property_age_range\"] = data.apply(age_property,axis=1).apply(age_property_bins)\n",
    "\n",
    "data[\"Property_age_range\"].value_counts()"
   ]
  },
  {
   "cell_type": "markdown",
   "id": "0cd45341",
   "metadata": {},
   "source": [
    "# Final Data"
   ]
  },
  {
   "cell_type": "code",
   "execution_count": 705,
   "id": "584b3aaa",
   "metadata": {},
   "outputs": [
    {
     "data": {
      "text/html": [
       "<div>\n",
       "<style scoped>\n",
       "    .dataframe tbody tr th:only-of-type {\n",
       "        vertical-align: middle;\n",
       "    }\n",
       "\n",
       "    .dataframe tbody tr th {\n",
       "        vertical-align: top;\n",
       "    }\n",
       "\n",
       "    .dataframe thead th {\n",
       "        text-align: right;\n",
       "    }\n",
       "</style>\n",
       "<table border=\"1\" class=\"dataframe\">\n",
       "  <thead>\n",
       "    <tr style=\"text-align: right;\">\n",
       "      <th></th>\n",
       "      <th>id</th>\n",
       "      <th>name</th>\n",
       "      <th>host_id</th>\n",
       "      <th>host_name</th>\n",
       "      <th>neighbourhood_group</th>\n",
       "      <th>neighbourhood</th>\n",
       "      <th>latitude</th>\n",
       "      <th>longitude</th>\n",
       "      <th>room_type</th>\n",
       "      <th>price</th>\n",
       "      <th>minimum_nights</th>\n",
       "      <th>number_of_reviews</th>\n",
       "      <th>last_review</th>\n",
       "      <th>reviews_per_month</th>\n",
       "      <th>calculated_host_listings_count</th>\n",
       "      <th>availability_365</th>\n",
       "      <th>last_review_year</th>\n",
       "      <th>last_review_month</th>\n",
       "      <th>Properties_host_listings_range</th>\n",
       "      <th>Price_range</th>\n",
       "      <th>minimum_nights_range</th>\n",
       "      <th>number_of_reviews_range</th>\n",
       "      <th>reviews_per_month_range</th>\n",
       "      <th>availability_365_range</th>\n",
       "      <th>Revenue</th>\n",
       "      <th>revenue_range</th>\n",
       "      <th>Property_age_range</th>\n",
       "    </tr>\n",
       "  </thead>\n",
       "  <tbody>\n",
       "    <tr>\n",
       "      <th>0</th>\n",
       "      <td>2539</td>\n",
       "      <td>Clean &amp; quiet apt home by the park</td>\n",
       "      <td>2787</td>\n",
       "      <td>John</td>\n",
       "      <td>Brooklyn</td>\n",
       "      <td>Kensington</td>\n",
       "      <td>40.65</td>\n",
       "      <td>-73.97</td>\n",
       "      <td>Private room</td>\n",
       "      <td>149.00</td>\n",
       "      <td>1.00</td>\n",
       "      <td>9.00</td>\n",
       "      <td>19-10-2018</td>\n",
       "      <td>0.21</td>\n",
       "      <td>6</td>\n",
       "      <td>365</td>\n",
       "      <td>2018</td>\n",
       "      <td>10</td>\n",
       "      <td>2-10 Properties</td>\n",
       "      <td>101-200</td>\n",
       "      <td>0-10</td>\n",
       "      <td>0-50</td>\n",
       "      <td>0-2</td>\n",
       "      <td>201 plus</td>\n",
       "      <td>149.00</td>\n",
       "      <td>0-200</td>\n",
       "      <td>3-4</td>\n",
       "    </tr>\n",
       "    <tr>\n",
       "      <th>1</th>\n",
       "      <td>2595</td>\n",
       "      <td>Skylit Midtown Castle</td>\n",
       "      <td>2845</td>\n",
       "      <td>Jennifer</td>\n",
       "      <td>Manhattan</td>\n",
       "      <td>Midtown</td>\n",
       "      <td>40.75</td>\n",
       "      <td>-73.98</td>\n",
       "      <td>Entire home/apt</td>\n",
       "      <td>225.00</td>\n",
       "      <td>1.00</td>\n",
       "      <td>45.00</td>\n",
       "      <td>21-05-2019</td>\n",
       "      <td>0.38</td>\n",
       "      <td>2</td>\n",
       "      <td>355</td>\n",
       "      <td>2019</td>\n",
       "      <td>5</td>\n",
       "      <td>2-10 Properties</td>\n",
       "      <td>201-500</td>\n",
       "      <td>0-10</td>\n",
       "      <td>0-50</td>\n",
       "      <td>0-2</td>\n",
       "      <td>201 plus</td>\n",
       "      <td>225.00</td>\n",
       "      <td>201-600</td>\n",
       "      <td>7 or more</td>\n",
       "    </tr>\n",
       "    <tr>\n",
       "      <th>2</th>\n",
       "      <td>3647</td>\n",
       "      <td>THE VILLAGE OF HARLEM....NEW YORK !</td>\n",
       "      <td>4632</td>\n",
       "      <td>Elisabeth</td>\n",
       "      <td>Manhattan</td>\n",
       "      <td>Harlem</td>\n",
       "      <td>40.81</td>\n",
       "      <td>-73.94</td>\n",
       "      <td>Private room</td>\n",
       "      <td>150.00</td>\n",
       "      <td>3.00</td>\n",
       "      <td>0.00</td>\n",
       "      <td>1990-01-01</td>\n",
       "      <td>1.34</td>\n",
       "      <td>1</td>\n",
       "      <td>365</td>\n",
       "      <td>Not Given</td>\n",
       "      <td>Not Given</td>\n",
       "      <td>1 Property</td>\n",
       "      <td>101-200</td>\n",
       "      <td>0-10</td>\n",
       "      <td>Not Known</td>\n",
       "      <td>0-2</td>\n",
       "      <td>201 plus</td>\n",
       "      <td>450.00</td>\n",
       "      <td>201-600</td>\n",
       "      <td>Not known</td>\n",
       "    </tr>\n",
       "    <tr>\n",
       "      <th>3</th>\n",
       "      <td>3831</td>\n",
       "      <td>Cozy Entire Floor of Brownstone</td>\n",
       "      <td>4869</td>\n",
       "      <td>LisaRoxanne</td>\n",
       "      <td>Brooklyn</td>\n",
       "      <td>Clinton Hill</td>\n",
       "      <td>40.69</td>\n",
       "      <td>-73.96</td>\n",
       "      <td>Entire home/apt</td>\n",
       "      <td>89.00</td>\n",
       "      <td>1.00</td>\n",
       "      <td>221.91</td>\n",
       "      <td>05-07-2019</td>\n",
       "      <td>4.64</td>\n",
       "      <td>1</td>\n",
       "      <td>194</td>\n",
       "      <td>2019</td>\n",
       "      <td>5</td>\n",
       "      <td>1 Property</td>\n",
       "      <td>0-100</td>\n",
       "      <td>0-10</td>\n",
       "      <td>151 plus</td>\n",
       "      <td>4-6</td>\n",
       "      <td>101-200</td>\n",
       "      <td>89.00</td>\n",
       "      <td>0-200</td>\n",
       "      <td>3-4</td>\n",
       "    </tr>\n",
       "    <tr>\n",
       "      <th>4</th>\n",
       "      <td>5022</td>\n",
       "      <td>Entire Apt: Spacious Studio/Loft by central park</td>\n",
       "      <td>7192</td>\n",
       "      <td>Laura</td>\n",
       "      <td>Manhattan</td>\n",
       "      <td>East Harlem</td>\n",
       "      <td>40.80</td>\n",
       "      <td>-73.94</td>\n",
       "      <td>Entire home/apt</td>\n",
       "      <td>80.00</td>\n",
       "      <td>10.00</td>\n",
       "      <td>9.00</td>\n",
       "      <td>19-11-2018</td>\n",
       "      <td>0.10</td>\n",
       "      <td>1</td>\n",
       "      <td>0</td>\n",
       "      <td>2018</td>\n",
       "      <td>11</td>\n",
       "      <td>1 Property</td>\n",
       "      <td>0-100</td>\n",
       "      <td>0-10</td>\n",
       "      <td>0-50</td>\n",
       "      <td>0-2</td>\n",
       "      <td>0-days</td>\n",
       "      <td>800.00</td>\n",
       "      <td>601-2000</td>\n",
       "      <td>7 or more</td>\n",
       "    </tr>\n",
       "  </tbody>\n",
       "</table>\n",
       "</div>"
      ],
      "text/plain": [
       "     id                                              name host_id  \\\n",
       "0  2539                Clean & quiet apt home by the park    2787   \n",
       "1  2595                             Skylit Midtown Castle    2845   \n",
       "2  3647               THE VILLAGE OF HARLEM....NEW YORK !    4632   \n",
       "3  3831                   Cozy Entire Floor of Brownstone    4869   \n",
       "4  5022  Entire Apt: Spacious Studio/Loft by central park    7192   \n",
       "\n",
       "     host_name neighbourhood_group neighbourhood  latitude  longitude  \\\n",
       "0         John            Brooklyn    Kensington     40.65     -73.97   \n",
       "1     Jennifer           Manhattan       Midtown     40.75     -73.98   \n",
       "2    Elisabeth           Manhattan        Harlem     40.81     -73.94   \n",
       "3  LisaRoxanne            Brooklyn  Clinton Hill     40.69     -73.96   \n",
       "4        Laura           Manhattan   East Harlem     40.80     -73.94   \n",
       "\n",
       "         room_type  price  minimum_nights  number_of_reviews last_review  \\\n",
       "0     Private room 149.00            1.00               9.00  19-10-2018   \n",
       "1  Entire home/apt 225.00            1.00              45.00  21-05-2019   \n",
       "2     Private room 150.00            3.00               0.00  1990-01-01   \n",
       "3  Entire home/apt  89.00            1.00             221.91  05-07-2019   \n",
       "4  Entire home/apt  80.00           10.00               9.00  19-11-2018   \n",
       "\n",
       "   reviews_per_month  calculated_host_listings_count  availability_365  \\\n",
       "0               0.21                               6               365   \n",
       "1               0.38                               2               355   \n",
       "2               1.34                               1               365   \n",
       "3               4.64                               1               194   \n",
       "4               0.10                               1                 0   \n",
       "\n",
       "  last_review_year last_review_month Properties_host_listings_range  \\\n",
       "0             2018                10                2-10 Properties   \n",
       "1             2019                 5                2-10 Properties   \n",
       "2        Not Given         Not Given                     1 Property   \n",
       "3             2019                 5                     1 Property   \n",
       "4             2018                11                     1 Property   \n",
       "\n",
       "  Price_range minimum_nights_range number_of_reviews_range  \\\n",
       "0     101-200                 0-10                    0-50   \n",
       "1     201-500                 0-10                    0-50   \n",
       "2     101-200                 0-10               Not Known   \n",
       "3       0-100                 0-10                151 plus   \n",
       "4       0-100                 0-10                    0-50   \n",
       "\n",
       "  reviews_per_month_range availability_365_range  Revenue revenue_range  \\\n",
       "0                     0-2               201 plus   149.00         0-200   \n",
       "1                     0-2               201 plus   225.00       201-600   \n",
       "2                     0-2               201 plus   450.00       201-600   \n",
       "3                     4-6                101-200    89.00         0-200   \n",
       "4                     0-2                 0-days   800.00      601-2000   \n",
       "\n",
       "  Property_age_range  \n",
       "0                3-4  \n",
       "1          7 or more  \n",
       "2          Not known  \n",
       "3                3-4  \n",
       "4          7 or more  "
      ]
     },
     "execution_count": 705,
     "metadata": {},
     "output_type": "execute_result"
    }
   ],
   "source": [
    "data.head()"
   ]
  },
  {
   "cell_type": "code",
   "execution_count": 706,
   "id": "6e9d6872",
   "metadata": {},
   "outputs": [
    {
     "name": "stdout",
     "output_type": "stream",
     "text": [
      "<class 'pandas.core.frame.DataFrame'>\n",
      "RangeIndex: 48895 entries, 0 to 48894\n",
      "Data columns (total 27 columns):\n",
      " #   Column                          Non-Null Count  Dtype   \n",
      "---  ------                          --------------  -----   \n",
      " 0   id                              48895 non-null  object  \n",
      " 1   name                            48895 non-null  object  \n",
      " 2   host_id                         48895 non-null  object  \n",
      " 3   host_name                       48895 non-null  object  \n",
      " 4   neighbourhood_group             48895 non-null  object  \n",
      " 5   neighbourhood                   48895 non-null  object  \n",
      " 6   latitude                        48895 non-null  float64 \n",
      " 7   longitude                       48895 non-null  float64 \n",
      " 8   room_type                       48895 non-null  object  \n",
      " 9   price                           48895 non-null  float64 \n",
      " 10  minimum_nights                  48895 non-null  float64 \n",
      " 11  number_of_reviews               48895 non-null  float64 \n",
      " 12  last_review                     48895 non-null  object  \n",
      " 13  reviews_per_month               48895 non-null  float64 \n",
      " 14  calculated_host_listings_count  48895 non-null  int64   \n",
      " 15  availability_365                48895 non-null  int64   \n",
      " 16  last_review_year                48895 non-null  object  \n",
      " 17  last_review_month               48895 non-null  object  \n",
      " 18  Properties_host_listings_range  48895 non-null  category\n",
      " 19  Price_range                     48884 non-null  category\n",
      " 20  minimum_nights_range            48895 non-null  category\n",
      " 21  number_of_reviews_range         48895 non-null  object  \n",
      " 22  reviews_per_month_range         48895 non-null  category\n",
      " 23  availability_365_range          48895 non-null  object  \n",
      " 24  Revenue                         48895 non-null  float64 \n",
      " 25  revenue_range                   48884 non-null  category\n",
      " 26  Property_age_range              48895 non-null  object  \n",
      "dtypes: category(5), float64(7), int64(2), object(13)\n",
      "memory usage: 8.4+ MB\n"
     ]
    }
   ],
   "source": [
    "data.info()"
   ]
  },
  {
   "cell_type": "code",
   "execution_count": 707,
   "id": "a42f800d",
   "metadata": {},
   "outputs": [],
   "source": [
    "for col in data.select_dtypes([\"category\"] ).columns:\n",
    "    data[col] = data[col].astype(str)"
   ]
  },
  {
   "cell_type": "code",
   "execution_count": 708,
   "id": "f849c91b",
   "metadata": {},
   "outputs": [
    {
     "name": "stdout",
     "output_type": "stream",
     "text": [
      "<class 'pandas.core.frame.DataFrame'>\n",
      "RangeIndex: 48895 entries, 0 to 48894\n",
      "Data columns (total 27 columns):\n",
      " #   Column                          Non-Null Count  Dtype  \n",
      "---  ------                          --------------  -----  \n",
      " 0   id                              48895 non-null  object \n",
      " 1   name                            48895 non-null  object \n",
      " 2   host_id                         48895 non-null  object \n",
      " 3   host_name                       48895 non-null  object \n",
      " 4   neighbourhood_group             48895 non-null  object \n",
      " 5   neighbourhood                   48895 non-null  object \n",
      " 6   latitude                        48895 non-null  float64\n",
      " 7   longitude                       48895 non-null  float64\n",
      " 8   room_type                       48895 non-null  object \n",
      " 9   price                           48895 non-null  float64\n",
      " 10  minimum_nights                  48895 non-null  float64\n",
      " 11  number_of_reviews               48895 non-null  float64\n",
      " 12  last_review                     48895 non-null  object \n",
      " 13  reviews_per_month               48895 non-null  float64\n",
      " 14  calculated_host_listings_count  48895 non-null  int64  \n",
      " 15  availability_365                48895 non-null  int64  \n",
      " 16  last_review_year                48895 non-null  object \n",
      " 17  last_review_month               48895 non-null  object \n",
      " 18  Properties_host_listings_range  48895 non-null  object \n",
      " 19  Price_range                     48895 non-null  object \n",
      " 20  minimum_nights_range            48895 non-null  object \n",
      " 21  number_of_reviews_range         48895 non-null  object \n",
      " 22  reviews_per_month_range         48895 non-null  object \n",
      " 23  availability_365_range          48895 non-null  object \n",
      " 24  Revenue                         48895 non-null  float64\n",
      " 25  revenue_range                   48895 non-null  object \n",
      " 26  Property_age_range              48895 non-null  object \n",
      "dtypes: float64(7), int64(2), object(18)\n",
      "memory usage: 10.1+ MB\n"
     ]
    }
   ],
   "source": [
    "data.info()"
   ]
  },
  {
   "cell_type": "code",
   "execution_count": 711,
   "id": "0983aa20",
   "metadata": {},
   "outputs": [],
   "source": [
    "final_data = data[['id', 'name', 'host_id', 'host_name', 'latitude', 'longitude', 'price',\n",
    "       'minimum_nights', 'Revenue', 'last_review', 'number_of_reviews', \n",
    "       'reviews_per_month', 'calculated_host_listings_count',\n",
    "       'availability_365',  'neighbourhood_group',\n",
    "       'neighbourhood',  'room_type','Property_age_range', 'last_review_year',\n",
    "       'last_review_month', 'Properties_host_listings_range', 'Price_range',\n",
    "       'minimum_nights_range', 'number_of_reviews_range',\n",
    "       'reviews_per_month_range', 'availability_365_range', \n",
    "       'revenue_range']]"
   ]
  },
  {
   "cell_type": "code",
   "execution_count": 712,
   "id": "ebb8dcdb",
   "metadata": {},
   "outputs": [
    {
     "data": {
      "text/html": [
       "<div>\n",
       "<style scoped>\n",
       "    .dataframe tbody tr th:only-of-type {\n",
       "        vertical-align: middle;\n",
       "    }\n",
       "\n",
       "    .dataframe tbody tr th {\n",
       "        vertical-align: top;\n",
       "    }\n",
       "\n",
       "    .dataframe thead th {\n",
       "        text-align: right;\n",
       "    }\n",
       "</style>\n",
       "<table border=\"1\" class=\"dataframe\">\n",
       "  <thead>\n",
       "    <tr style=\"text-align: right;\">\n",
       "      <th></th>\n",
       "      <th>id</th>\n",
       "      <th>name</th>\n",
       "      <th>host_id</th>\n",
       "      <th>host_name</th>\n",
       "      <th>latitude</th>\n",
       "      <th>longitude</th>\n",
       "      <th>price</th>\n",
       "      <th>minimum_nights</th>\n",
       "      <th>Revenue</th>\n",
       "      <th>last_review</th>\n",
       "      <th>number_of_reviews</th>\n",
       "      <th>reviews_per_month</th>\n",
       "      <th>calculated_host_listings_count</th>\n",
       "      <th>availability_365</th>\n",
       "      <th>neighbourhood_group</th>\n",
       "      <th>neighbourhood</th>\n",
       "      <th>room_type</th>\n",
       "      <th>Property_age_range</th>\n",
       "      <th>last_review_year</th>\n",
       "      <th>last_review_month</th>\n",
       "      <th>Properties_host_listings_range</th>\n",
       "      <th>Price_range</th>\n",
       "      <th>minimum_nights_range</th>\n",
       "      <th>number_of_reviews_range</th>\n",
       "      <th>reviews_per_month_range</th>\n",
       "      <th>availability_365_range</th>\n",
       "      <th>revenue_range</th>\n",
       "    </tr>\n",
       "  </thead>\n",
       "  <tbody>\n",
       "    <tr>\n",
       "      <th>0</th>\n",
       "      <td>2539</td>\n",
       "      <td>Clean &amp; quiet apt home by the park</td>\n",
       "      <td>2787</td>\n",
       "      <td>John</td>\n",
       "      <td>40.65</td>\n",
       "      <td>-73.97</td>\n",
       "      <td>149.00</td>\n",
       "      <td>1.00</td>\n",
       "      <td>149.00</td>\n",
       "      <td>19-10-2018</td>\n",
       "      <td>9.00</td>\n",
       "      <td>0.21</td>\n",
       "      <td>6</td>\n",
       "      <td>365</td>\n",
       "      <td>Brooklyn</td>\n",
       "      <td>Kensington</td>\n",
       "      <td>Private room</td>\n",
       "      <td>3-4</td>\n",
       "      <td>2018</td>\n",
       "      <td>10</td>\n",
       "      <td>2-10 Properties</td>\n",
       "      <td>101-200</td>\n",
       "      <td>0-10</td>\n",
       "      <td>0-50</td>\n",
       "      <td>0-2</td>\n",
       "      <td>201 plus</td>\n",
       "      <td>0-200</td>\n",
       "    </tr>\n",
       "    <tr>\n",
       "      <th>1</th>\n",
       "      <td>2595</td>\n",
       "      <td>Skylit Midtown Castle</td>\n",
       "      <td>2845</td>\n",
       "      <td>Jennifer</td>\n",
       "      <td>40.75</td>\n",
       "      <td>-73.98</td>\n",
       "      <td>225.00</td>\n",
       "      <td>1.00</td>\n",
       "      <td>225.00</td>\n",
       "      <td>21-05-2019</td>\n",
       "      <td>45.00</td>\n",
       "      <td>0.38</td>\n",
       "      <td>2</td>\n",
       "      <td>355</td>\n",
       "      <td>Manhattan</td>\n",
       "      <td>Midtown</td>\n",
       "      <td>Entire home/apt</td>\n",
       "      <td>7 or more</td>\n",
       "      <td>2019</td>\n",
       "      <td>5</td>\n",
       "      <td>2-10 Properties</td>\n",
       "      <td>201-500</td>\n",
       "      <td>0-10</td>\n",
       "      <td>0-50</td>\n",
       "      <td>0-2</td>\n",
       "      <td>201 plus</td>\n",
       "      <td>201-600</td>\n",
       "    </tr>\n",
       "    <tr>\n",
       "      <th>2</th>\n",
       "      <td>3647</td>\n",
       "      <td>THE VILLAGE OF HARLEM....NEW YORK !</td>\n",
       "      <td>4632</td>\n",
       "      <td>Elisabeth</td>\n",
       "      <td>40.81</td>\n",
       "      <td>-73.94</td>\n",
       "      <td>150.00</td>\n",
       "      <td>3.00</td>\n",
       "      <td>450.00</td>\n",
       "      <td>1990-01-01</td>\n",
       "      <td>0.00</td>\n",
       "      <td>1.34</td>\n",
       "      <td>1</td>\n",
       "      <td>365</td>\n",
       "      <td>Manhattan</td>\n",
       "      <td>Harlem</td>\n",
       "      <td>Private room</td>\n",
       "      <td>Not known</td>\n",
       "      <td>Not Given</td>\n",
       "      <td>Not Given</td>\n",
       "      <td>1 Property</td>\n",
       "      <td>101-200</td>\n",
       "      <td>0-10</td>\n",
       "      <td>Not Known</td>\n",
       "      <td>0-2</td>\n",
       "      <td>201 plus</td>\n",
       "      <td>201-600</td>\n",
       "    </tr>\n",
       "    <tr>\n",
       "      <th>3</th>\n",
       "      <td>3831</td>\n",
       "      <td>Cozy Entire Floor of Brownstone</td>\n",
       "      <td>4869</td>\n",
       "      <td>LisaRoxanne</td>\n",
       "      <td>40.69</td>\n",
       "      <td>-73.96</td>\n",
       "      <td>89.00</td>\n",
       "      <td>1.00</td>\n",
       "      <td>89.00</td>\n",
       "      <td>05-07-2019</td>\n",
       "      <td>221.91</td>\n",
       "      <td>4.64</td>\n",
       "      <td>1</td>\n",
       "      <td>194</td>\n",
       "      <td>Brooklyn</td>\n",
       "      <td>Clinton Hill</td>\n",
       "      <td>Entire home/apt</td>\n",
       "      <td>3-4</td>\n",
       "      <td>2019</td>\n",
       "      <td>5</td>\n",
       "      <td>1 Property</td>\n",
       "      <td>0-100</td>\n",
       "      <td>0-10</td>\n",
       "      <td>151 plus</td>\n",
       "      <td>4-6</td>\n",
       "      <td>101-200</td>\n",
       "      <td>0-200</td>\n",
       "    </tr>\n",
       "    <tr>\n",
       "      <th>4</th>\n",
       "      <td>5022</td>\n",
       "      <td>Entire Apt: Spacious Studio/Loft by central park</td>\n",
       "      <td>7192</td>\n",
       "      <td>Laura</td>\n",
       "      <td>40.80</td>\n",
       "      <td>-73.94</td>\n",
       "      <td>80.00</td>\n",
       "      <td>10.00</td>\n",
       "      <td>800.00</td>\n",
       "      <td>19-11-2018</td>\n",
       "      <td>9.00</td>\n",
       "      <td>0.10</td>\n",
       "      <td>1</td>\n",
       "      <td>0</td>\n",
       "      <td>Manhattan</td>\n",
       "      <td>East Harlem</td>\n",
       "      <td>Entire home/apt</td>\n",
       "      <td>7 or more</td>\n",
       "      <td>2018</td>\n",
       "      <td>11</td>\n",
       "      <td>1 Property</td>\n",
       "      <td>0-100</td>\n",
       "      <td>0-10</td>\n",
       "      <td>0-50</td>\n",
       "      <td>0-2</td>\n",
       "      <td>0-days</td>\n",
       "      <td>601-2000</td>\n",
       "    </tr>\n",
       "  </tbody>\n",
       "</table>\n",
       "</div>"
      ],
      "text/plain": [
       "     id                                              name host_id  \\\n",
       "0  2539                Clean & quiet apt home by the park    2787   \n",
       "1  2595                             Skylit Midtown Castle    2845   \n",
       "2  3647               THE VILLAGE OF HARLEM....NEW YORK !    4632   \n",
       "3  3831                   Cozy Entire Floor of Brownstone    4869   \n",
       "4  5022  Entire Apt: Spacious Studio/Loft by central park    7192   \n",
       "\n",
       "     host_name  latitude  longitude  price  minimum_nights  Revenue  \\\n",
       "0         John     40.65     -73.97 149.00            1.00   149.00   \n",
       "1     Jennifer     40.75     -73.98 225.00            1.00   225.00   \n",
       "2    Elisabeth     40.81     -73.94 150.00            3.00   450.00   \n",
       "3  LisaRoxanne     40.69     -73.96  89.00            1.00    89.00   \n",
       "4        Laura     40.80     -73.94  80.00           10.00   800.00   \n",
       "\n",
       "  last_review  number_of_reviews  reviews_per_month  \\\n",
       "0  19-10-2018               9.00               0.21   \n",
       "1  21-05-2019              45.00               0.38   \n",
       "2  1990-01-01               0.00               1.34   \n",
       "3  05-07-2019             221.91               4.64   \n",
       "4  19-11-2018               9.00               0.10   \n",
       "\n",
       "   calculated_host_listings_count  availability_365 neighbourhood_group  \\\n",
       "0                               6               365            Brooklyn   \n",
       "1                               2               355           Manhattan   \n",
       "2                               1               365           Manhattan   \n",
       "3                               1               194            Brooklyn   \n",
       "4                               1                 0           Manhattan   \n",
       "\n",
       "  neighbourhood        room_type Property_age_range last_review_year  \\\n",
       "0    Kensington     Private room                3-4             2018   \n",
       "1       Midtown  Entire home/apt          7 or more             2019   \n",
       "2        Harlem     Private room          Not known        Not Given   \n",
       "3  Clinton Hill  Entire home/apt                3-4             2019   \n",
       "4   East Harlem  Entire home/apt          7 or more             2018   \n",
       "\n",
       "  last_review_month Properties_host_listings_range Price_range  \\\n",
       "0                10                2-10 Properties     101-200   \n",
       "1                 5                2-10 Properties     201-500   \n",
       "2         Not Given                     1 Property     101-200   \n",
       "3                 5                     1 Property       0-100   \n",
       "4                11                     1 Property       0-100   \n",
       "\n",
       "  minimum_nights_range number_of_reviews_range reviews_per_month_range  \\\n",
       "0                 0-10                    0-50                     0-2   \n",
       "1                 0-10                    0-50                     0-2   \n",
       "2                 0-10               Not Known                     0-2   \n",
       "3                 0-10                151 plus                     4-6   \n",
       "4                 0-10                    0-50                     0-2   \n",
       "\n",
       "  availability_365_range revenue_range  \n",
       "0               201 plus         0-200  \n",
       "1               201 plus       201-600  \n",
       "2               201 plus       201-600  \n",
       "3                101-200         0-200  \n",
       "4                 0-days      601-2000  "
      ]
     },
     "execution_count": 712,
     "metadata": {},
     "output_type": "execute_result"
    }
   ],
   "source": [
    "final_data.head()"
   ]
  },
  {
   "cell_type": "code",
   "execution_count": 829,
   "id": "7f47da6e",
   "metadata": {},
   "outputs": [],
   "source": [
    "final_data.to_excel(\"Final_Airbnb.xlsx\")"
   ]
  }
 ],
 "metadata": {
  "kernelspec": {
   "display_name": "Python 3 (ipykernel)",
   "language": "python",
   "name": "python3"
  },
  "language_info": {
   "codemirror_mode": {
    "name": "ipython",
    "version": 3
   },
   "file_extension": ".py",
   "mimetype": "text/x-python",
   "name": "python",
   "nbconvert_exporter": "python",
   "pygments_lexer": "ipython3",
   "version": "3.9.12"
  }
 },
 "nbformat": 4,
 "nbformat_minor": 5
}
